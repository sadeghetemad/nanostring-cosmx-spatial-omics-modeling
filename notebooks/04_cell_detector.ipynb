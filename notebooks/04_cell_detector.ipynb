{
 "cells": [
  {
   "cell_type": "code",
   "execution_count": null,
   "id": "d1e9cd94",
   "metadata": {},
   "outputs": [],
   "source": [
    "import warnings\n",
    "warnings.filterwarnings(\"ignore\")"
   ]
  },
  {
   "cell_type": "code",
   "execution_count": null,
   "id": "58dfb54d",
   "metadata": {},
   "outputs": [],
   "source": [
    "import pandas as pd\n",
    "import scanpy as sc\n",
    "import numpy as np\n",
    "\n",
    "import shap\n",
    "from sklearn.model_selection import train_test_split\n",
    "from sklearn.preprocessing import StandardScaler, OneHotEncoder, LabelEncoder\n",
    "from sklearn.compose import ColumnTransformer\n",
    "from sklearn.pipeline import Pipeline\n",
    "from sklearn.linear_model import LogisticRegression\n",
    "from sklearn.metrics import classification_report, confusion_matrix, ConfusionMatrixDisplay, accuracy_score, balanced_accuracy_score, roc_auc_score, average_precision_score, matthews_corrcoef, cohen_kappa_score\n",
    "from sklearn.feature_selection import mutual_info_classif\n",
    "from sklearn.ensemble import RandomForestClassifier\n",
    "from sklearn.utils.class_weight import compute_class_weight\n",
    "from sklearn.model_selection import GroupShuffleSplit, StratifiedGroupKFold\n",
    "import lightgbm as lgb\n",
    "\n",
    "import matplotlib.pyplot as plt\n",
    "import seaborn as sns\n",
    "\n",
    "from pathlib import Path"
   ]
  },
  {
   "cell_type": "code",
   "execution_count": null,
   "id": "d0030bef",
   "metadata": {},
   "outputs": [],
   "source": [
    "base_dir = Path().resolve()\n",
    "parent_dir = base_dir.parent\n",
    "parent_dir"
   ]
  },
  {
   "cell_type": "markdown",
   "id": "8d294c84",
   "metadata": {
    "vscode": {
     "languageId": "bat"
    }
   },
   "source": [
    "## Read flux and TMA preprocessed Data"
   ]
  },
  {
   "cell_type": "markdown",
   "id": "e1cec637",
   "metadata": {},
   "source": [
    "### Read Metabolic Task data"
   ]
  },
  {
   "cell_type": "code",
   "execution_count": null,
   "id": "5987c53f",
   "metadata": {},
   "outputs": [],
   "source": [
    "metabolic_task_df = pd.read_csv(parent_dir / 'data/scCellFie/scCellFie_metabolic_tasks_with_name.csv', low_memory=False)\n",
    "metabolic_task_df.rename(columns={'Unnamed: 0':'cell'},inplace=True)\n",
    "metabolic_task_df.head()"
   ]
  },
  {
   "cell_type": "code",
   "execution_count": null,
   "id": "ddcd8cfc",
   "metadata": {},
   "outputs": [],
   "source": [
    "print(\"count of +inf:\", np.isposinf(metabolic_task_df.iloc[:,1:].to_numpy()).sum())\n",
    "print(\"count of -inf:\", np.isneginf(metabolic_task_df.iloc[:,1:].to_numpy()).sum())"
   ]
  },
  {
   "cell_type": "code",
   "execution_count": null,
   "id": "a1463f47",
   "metadata": {},
   "outputs": [],
   "source": [
    "metabolic_task_df = metabolic_task_df.replace(-np.inf, 0)"
   ]
  },
  {
   "cell_type": "markdown",
   "id": "dbf91082",
   "metadata": {},
   "source": [
    "### Read Reactions data"
   ]
  },
  {
   "cell_type": "code",
   "execution_count": null,
   "id": "db89fd01",
   "metadata": {},
   "outputs": [],
   "source": [
    "reactions_df = pd.read_csv(parent_dir / 'data/scCellFie/scCellFie_reactions_with_name.csv', low_memory=False)\n",
    "reactions_df.rename(columns={'Unnamed: 0':'cell'},inplace=True)\n",
    "reactions_df.head()"
   ]
  },
  {
   "cell_type": "code",
   "execution_count": null,
   "id": "b51b212e",
   "metadata": {},
   "outputs": [],
   "source": [
    "print(\"count of +inf:\", np.isposinf(reactions_df.iloc[:,1:].to_numpy()).sum())\n",
    "print(\"count of -inf:\", np.isneginf(reactions_df.iloc[:,1:].to_numpy()).sum())"
   ]
  },
  {
   "cell_type": "code",
   "execution_count": null,
   "id": "70dd284e",
   "metadata": {},
   "outputs": [],
   "source": [
    "reactions_df = reactions_df.replace(-np.inf, 0)"
   ]
  },
  {
   "cell_type": "markdown",
   "id": "dfb88747",
   "metadata": {},
   "source": [
    "### Read selected gene expression data"
   ]
  },
  {
   "cell_type": "code",
   "execution_count": null,
   "id": "82a963e5",
   "metadata": {},
   "outputs": [],
   "source": [
    "gene_df = pd.read_csv(parent_dir / 'data/scCellFie/scCellFie_genes_with_name.csv', low_memory=False)\n",
    "gene_df.rename(columns={'Unnamed: 0':'cell'},inplace=True)\n",
    "gene_df.head()"
   ]
  },
  {
   "cell_type": "code",
   "execution_count": null,
   "id": "b0babcbf",
   "metadata": {},
   "outputs": [],
   "source": [
    "print(\"count of +inf:\", np.isposinf(gene_df.iloc[:,1:].to_numpy()).sum())\n",
    "print(\"count of -inf:\", np.isneginf(gene_df.iloc[:,1:].to_numpy()).sum())"
   ]
  },
  {
   "cell_type": "markdown",
   "id": "63e1bd09",
   "metadata": {},
   "source": [
    "### Read adata data"
   ]
  },
  {
   "cell_type": "code",
   "execution_count": null,
   "id": "9e89e1e1",
   "metadata": {},
   "outputs": [],
   "source": [
    "adata = sc.read(parent_dir / 'data/h5ad/merged_TMA_processed_compatible_n_gene_200.h5ad')\n",
    "adata"
   ]
  },
  {
   "cell_type": "code",
   "execution_count": null,
   "id": "725a9f5a",
   "metadata": {},
   "outputs": [],
   "source": [
    "# Extract UMAP\n",
    "umap_df = pd.DataFrame(\n",
    "    adata.obsm['X_umap'],\n",
    "    index=adata.obs.index,\n",
    "    columns=['UMAP1', 'UMAP2']\n",
    ")\n",
    "\n",
    "# Extract spatial\n",
    "spatial_df = pd.DataFrame(\n",
    "    adata.obsm['spatial'],\n",
    "    index=adata.obs.index,\n",
    "    columns=['X_spatial', 'Y_spatial']\n",
    ")\n",
    "\n",
    "# Concatenate along columns\n",
    "coords_df = pd.concat([umap_df, spatial_df], axis=1)\n",
    "coords_df = coords_df.reset_index().rename(columns={\"index\": \"cell\"})\n",
    "coords_df"
   ]
  },
  {
   "cell_type": "code",
   "execution_count": null,
   "id": "a38650a7",
   "metadata": {},
   "outputs": [],
   "source": [
    "cols = [\"sample\", \"leiden\",\"cell_type\", \"Treatment_Status\", \"Subject_ID\" ]\n",
    "obs_df = adata.obs[cols].copy()\n",
    "obs_df = adata.obs[cols].reset_index().rename(columns={\"index\": \"cell\"})\n",
    "obs_df"
   ]
  },
  {
   "cell_type": "code",
   "execution_count": null,
   "id": "470d8d1f",
   "metadata": {},
   "outputs": [],
   "source": [
    "obs_coords_df = obs_df.merge(coords_df, on=\"cell\", how=\"inner\")\n",
    "obs_coords_df"
   ]
  },
  {
   "cell_type": "markdown",
   "id": "b0b72711",
   "metadata": {},
   "source": [
    "### Merge datasets"
   ]
  },
  {
   "cell_type": "code",
   "execution_count": null,
   "id": "5c003784",
   "metadata": {},
   "outputs": [],
   "source": [
    "dataset = metabolic_task_df.merge(obs_coords_df, on=\"cell\", how=\"inner\") \\\n",
    "               .merge(reactions_df, on=\"cell\", how=\"inner\") \\\n",
    "               .merge(gene_df, on=\"cell\", how=\"inner\")\n",
    "\n",
    "# dataset = gene_df.merge(obs_coords_df, on=\"cell\", how=\"inner\") \\\n",
    "#                .merge(reactions_df, on=\"cell\", how=\"inner\")\n",
    "\n",
    "# dataset = metabolic_task_df.merge(obs_coords_df, on=\"cell\", how=\"inner\")\n",
    "# dataset\n",
    "\n",
    "dataset[\"treatment_encoded\"] = dataset[\"Treatment_Status\"].map({\"Untreated\": 0, \"Treated\": 1})\n",
    "dataset"
   ]
  },
  {
   "cell_type": "markdown",
   "id": "1bb28897",
   "metadata": {},
   "source": [
    "### Distribution of Cell count and status per Subject ID"
   ]
  },
  {
   "cell_type": "code",
   "execution_count": null,
   "id": "af0c7ad4",
   "metadata": {},
   "outputs": [],
   "source": [
    "status_counts = dataset.groupby([\"Subject_ID\", \"Treatment_Status\"]).size().unstack(fill_value=0)\n",
    "status_counts"
   ]
  },
  {
   "cell_type": "code",
   "execution_count": null,
   "id": "09b1e6ca",
   "metadata": {},
   "outputs": [],
   "source": [
    "plt.figure(figsize=(8,5))\n",
    "sns.heatmap(status_counts, annot=True, cmap=\"Blues\", fmt=\"d\")\n",
    "plt.title(\"Treatment Status Counts per Subject\")\n",
    "plt.ylabel(\"Subject ID\")\n",
    "plt.xlabel(\"Treatment Status\")\n",
    "plt.show()\n"
   ]
  },
  {
   "cell_type": "code",
   "execution_count": null,
   "id": "a513dfdc",
   "metadata": {},
   "outputs": [],
   "source": [
    "cell_counts = dataset.groupby(\"Subject_ID\")[\"cell\"].nunique()\n",
    "cell_counts"
   ]
  },
  {
   "cell_type": "code",
   "execution_count": null,
   "id": "f0772b70",
   "metadata": {},
   "outputs": [],
   "source": [
    "ax = cell_counts.plot(kind=\"bar\", figsize=(8,5), color=\"skyblue\")\n",
    "\n",
    "# Add value labels\n",
    "for container in ax.containers:\n",
    "    ax.bar_label(container)\n",
    "    \n",
    "plt.title(\"Unique Cell Counts per Subject\")\n",
    "plt.xlabel(\"Subject ID\")\n",
    "plt.ylabel(\"Number of Unique Cells\")\n",
    "plt.xticks(rotation=90)\n",
    "plt.tight_layout()\n",
    "plt.show()\n"
   ]
  },
  {
   "cell_type": "code",
   "execution_count": null,
   "id": "736f0a29",
   "metadata": {},
   "outputs": [],
   "source": [
    "summary = status_counts.join(cell_counts.rename(\"num_cells\"))\n",
    "summary"
   ]
  },
  {
   "cell_type": "code",
   "execution_count": null,
   "id": "1c401e22",
   "metadata": {},
   "outputs": [],
   "source": [
    "plt.figure(figsize=(8,5))\n",
    "sns.heatmap(summary, annot=True, cmap=\"Blues\", fmt=\"d\")\n",
    "plt.title(\"Treatment Status and Cell Counts per Subject\")\n",
    "plt.ylabel(\"Subject ID\")\n",
    "plt.xlabel(\"Treatment Status\")\n",
    "plt.show()"
   ]
  },
  {
   "cell_type": "markdown",
   "id": "f94c137d",
   "metadata": {},
   "source": []
  },
  {
   "cell_type": "markdown",
   "id": "2d64ffd7",
   "metadata": {},
   "source": [
    "### Class Balance Analysis"
   ]
  },
  {
   "cell_type": "code",
   "execution_count": null,
   "id": "1d5f86a1",
   "metadata": {},
   "outputs": [],
   "source": [
    "dataset[\"Treatment_Status\"].value_counts()"
   ]
  },
  {
   "cell_type": "code",
   "execution_count": null,
   "id": "f49a23b4",
   "metadata": {},
   "outputs": [],
   "source": [
    "plt.figure(figsize=(5,4))\n",
    "dataset[\"Treatment_Status\"].value_counts().plot(\n",
    "    kind=\"bar\",\n",
    "    color=[\"skyblue\", \"salmon\"]\n",
    ")\n",
    "plt.title(\"Label Distribution (Treated vs UnTreated)\")\n",
    "plt.ylabel(\"Count\")\n",
    "plt.xlabel(\"Class\")\n",
    "plt.xticks(rotation=0)\n",
    "plt.show()"
   ]
  },
  {
   "cell_type": "markdown",
   "id": "d00ebf7a",
   "metadata": {},
   "source": [
    "# Classification Problem (Treated vs Untreated Cells)"
   ]
  },
  {
   "cell_type": "markdown",
   "id": "9501aa58",
   "metadata": {},
   "source": [
    "## Cell Based Classification"
   ]
  },
  {
   "cell_type": "markdown",
   "id": "0182da60",
   "metadata": {},
   "source": [
    "### Dataset Definition"
   ]
  },
  {
   "cell_type": "code",
   "execution_count": null,
   "id": "a1773bfe",
   "metadata": {},
   "outputs": [],
   "source": [
    "dataset = pd.get_dummies(dataset, columns=[\"cell_type\"])\n",
    "dataset"
   ]
  },
  {
   "cell_type": "code",
   "execution_count": null,
   "id": "1964eb0e",
   "metadata": {},
   "outputs": [],
   "source": [
    "#\"Treatment_Status\",\"Subject_ID\",\"treatment_encoded\",\"sample\",\"cell\",\"leiden\",\"X_spatial\",\"Y_spatial\",\"UMAP1\",\"UMAP2\",\"cell_type\n",
    "X = dataset.drop(columns=[\"Treatment_Status\",\"Subject_ID\",\"treatment_encoded\",\"sample\",\"cell\"])\n",
    "y = dataset[\"treatment_encoded\"]\n",
    "feature_names = X.columns.tolist()"
   ]
  },
  {
   "cell_type": "code",
   "execution_count": null,
   "id": "ca797f2e",
   "metadata": {},
   "outputs": [],
   "source": [
    "patients = dataset[\"Subject_ID\"].unique()\n",
    "\n",
    "train_patients, test_patients = train_test_split(\n",
    "    patients,\n",
    "    test_size=0.2,\n",
    "    random_state=42,\n",
    "    stratify=dataset.groupby(\"Subject_ID\")[\"Treatment_Status\"].first() \n",
    ")"
   ]
  },
  {
   "cell_type": "code",
   "execution_count": null,
   "id": "9b248657",
   "metadata": {},
   "outputs": [],
   "source": [
    "X_train = X[dataset[\"Subject_ID\"].isin(train_patients)]\n",
    "y_train = y[dataset[\"Subject_ID\"].isin(train_patients)]\n",
    "\n",
    "X_test = X[dataset[\"Subject_ID\"].isin(test_patients)]\n",
    "y_test = y[dataset[\"Subject_ID\"].isin(test_patients)]"
   ]
  },
  {
   "cell_type": "markdown",
   "id": "f666e753",
   "metadata": {},
   "source": [
    "### Feature Scaling"
   ]
  },
  {
   "cell_type": "code",
   "execution_count": null,
   "id": "1fc5614b",
   "metadata": {},
   "outputs": [],
   "source": [
    "# Standardization Dataset\n",
    "scaler = StandardScaler()\n",
    "X_train_scaled = pd.DataFrame(\n",
    "    scaler.fit_transform(X_train),\n",
    "    columns=feature_names,\n",
    "    index=X_train.index\n",
    ")\n",
    "X_test_scaled = pd.DataFrame(\n",
    "    scaler.transform(X_test),\n",
    "    columns=feature_names,\n",
    "    index=X_test.index\n",
    ")"
   ]
  },
  {
   "cell_type": "markdown",
   "id": "33026a16",
   "metadata": {},
   "source": [
    "### Model Training"
   ]
  },
  {
   "cell_type": "code",
   "execution_count": null,
   "id": "525cf645",
   "metadata": {},
   "outputs": [],
   "source": [
    "# Train Randomforest Classifier\n",
    "rf = RandomForestClassifier(\n",
    "   n_estimators=300, \n",
    "   random_state=42, \n",
    "   max_depth=8, \n",
    "   min_samples_split=20, \n",
    "   min_samples_leaf=10,\n",
    "   class_weight=\"balanced\",\n",
    "   n_jobs=-1\n",
    ")\n",
    "\n",
    "rf.fit(X_train_scaled, y_train)\n",
    "\n",
    "y_pred_rf = rf.predict(X_test_scaled)\n",
    "\n",
    "train_acc = rf.score(X_train_scaled, y_train)\n",
    "test_acc = rf.score(X_test_scaled, y_test)\n",
    "print(f\"Train Accuracy: {train_acc:.3f}, Test Accuracy: {test_acc:.3f}\")\n"
   ]
  },
  {
   "cell_type": "code",
   "execution_count": null,
   "id": "501f80bd",
   "metadata": {},
   "outputs": [],
   "source": [
    "# Trian LightGBM Classifier\n",
    "neg, pos = np.bincount(y_train)\n",
    "scale_pos_weight = neg / pos\n",
    "\n",
    "clf = lgb.LGBMClassifier(\n",
    "    n_estimators=500,\n",
    "    max_depth=-1,\n",
    "    learning_rate=0.05,\n",
    "    subsample=0.8,\n",
    "    colsample_bytree=0.8,\n",
    "    random_state=42,\n",
    "    scale_pos_weight=scale_pos_weight\n",
    ")\n",
    "clf.fit(X_train_scaled, y_train)\n",
    "\n",
    "y_pred = clf.predict(X_test_scaled)\n",
    "\n",
    "train_acc = clf.score(X_train_scaled, y_train)\n",
    "test_acc = clf.score(X_test_scaled, y_test)\n",
    "print(f\"Train Accuracy: {train_acc:.3f}, Test Accuracy: {test_acc:.3f}\")"
   ]
  },
  {
   "cell_type": "markdown",
   "id": "6e735268",
   "metadata": {},
   "source": [
    "### Evaluation"
   ]
  },
  {
   "cell_type": "code",
   "execution_count": null,
   "id": "49e38c47",
   "metadata": {},
   "outputs": [],
   "source": [
    "print(classification_report(y_pred=y_pred, y_true=y_test))\n",
    "\n",
    "cm = confusion_matrix(y_test, y_pred)\n",
    "print(\"Confusion Matrix:\\n\", cm)\n",
    "disp = ConfusionMatrixDisplay(confusion_matrix=cm, display_labels=[0, 1])\n",
    "disp.plot(cmap=\"Blues\")\n",
    "plt.show()\n",
    "\n",
    "print(\"Balanced Accuracy:\", balanced_accuracy_score(y_test, y_pred))"
   ]
  },
  {
   "cell_type": "code",
   "execution_count": null,
   "id": "ce134aba",
   "metadata": {},
   "outputs": [],
   "source": [
    "print(f\"ROC-AUC: {roc_auc_score(y_test, y_pred):.3f}\")\n",
    "print(f\"PR-AUC (Average Precision): {average_precision_score(y_test, y_pred):.3f}\")\n",
    "print(f\"Matthews Correlation Coefficient (MCC): {matthews_corrcoef(y_test, y_pred):.3f}\")\n",
    "print(f\"Cohen’s Kappa: {cohen_kappa_score(y_test, y_pred):.3f}\")"
   ]
  },
  {
   "cell_type": "markdown",
   "id": "fcf1e394",
   "metadata": {},
   "source": [
    "## Patient Based Classification"
   ]
  },
  {
   "cell_type": "markdown",
   "id": "24b007b7",
   "metadata": {},
   "source": [
    "### Dataset Defintion"
   ]
  },
  {
   "cell_type": "code",
   "execution_count": null,
   "id": "d9cd6526",
   "metadata": {},
   "outputs": [],
   "source": [
    "dataset = pd.get_dummies(dataset, columns=[\"cell_type\"])\n",
    "dataset.set_index('cell',inplace=True)\n",
    "dataset"
   ]
  },
  {
   "cell_type": "code",
   "execution_count": null,
   "id": "d8682ede",
   "metadata": {},
   "outputs": [],
   "source": [
    "df_subjects = adata.obs.groupby(\"Subject_ID\")[\"Treatment_Status\"].first().reset_index()\n",
    "\n",
    "train_subj, test_subj = train_test_split(df_subjects,test_size=0.2,random_state=42,stratify=df_subjects[\"Treatment_Status\"])\n",
    "\n",
    "print(\"Train subjects:\", train_subj[\"Treatment_Status\"].value_counts().to_dict())\n",
    "print(\"Test subjects:\", test_subj[\"Treatment_Status\"].value_counts().to_dict())\n",
    "\n",
    "train_idx = adata.obs.index[adata.obs[\"Subject_ID\"].isin(train_subj[\"Subject_ID\"])]\n",
    "test_idx = adata.obs.index[adata.obs[\"Subject_ID\"].isin(test_subj[\"Subject_ID\"])]\n",
    "\n",
    "print(\"Train cells:\", adata.obs.loc[train_idx, \"Treatment_Status\"].value_counts().to_dict())\n",
    "print(\"Test cells:\", adata.obs.loc[test_idx, \"Treatment_Status\"].value_counts().to_dict())"
   ]
  },
  {
   "cell_type": "code",
   "execution_count": null,
   "id": "07e81fba",
   "metadata": {},
   "outputs": [],
   "source": [
    "y_train, y_test = dataset[\"treatment_encoded\"].loc[train_idx], dataset[\"treatment_encoded\"].loc[test_idx]\n",
    "dataset.drop(columns=[\"Treatment_Status\",\"Subject_ID\",\"treatment_encoded\",\"sample\"], inplace=True)\n",
    "X_train, X_test = dataset.loc[train_idx], dataset.loc[test_idx]\n",
    "feature_names=X_train.columns.tolist()\n",
    "print(\"Train subjects:\", train_subj.shape[0], \"Test subjects:\", test_subj.shape[0])\n",
    "print(\"Train cells:\", X_train.shape[0], \"Test cells:\", X_test.shape[0])"
   ]
  },
  {
   "cell_type": "markdown",
   "id": "b69ea692",
   "metadata": {},
   "source": [
    "### Feature Scaling"
   ]
  },
  {
   "cell_type": "code",
   "execution_count": null,
   "id": "009f7cb3",
   "metadata": {},
   "outputs": [],
   "source": [
    "# Standardization Dataset\n",
    "scaler = StandardScaler()\n",
    "X_train_scaled = pd.DataFrame(\n",
    "    scaler.fit_transform(X_train),\n",
    "    columns=feature_names,\n",
    "    index=X_train.index\n",
    ")\n",
    "X_test_scaled = pd.DataFrame(\n",
    "    scaler.transform(X_test),\n",
    "    columns=feature_names,\n",
    "    index=X_test.index\n",
    ")"
   ]
  },
  {
   "cell_type": "markdown",
   "id": "b699b340",
   "metadata": {},
   "source": [
    "### Model Training"
   ]
  },
  {
   "cell_type": "code",
   "execution_count": null,
   "id": "69bfbb59",
   "metadata": {},
   "outputs": [],
   "source": [
    "classes = np.unique(y_train)\n",
    "class_weights = compute_class_weight(class_weight=\"balanced\", classes=classes, y=y_train)\n",
    "class_weights_dict = dict(zip(classes, class_weights))\n",
    "print(class_weights_dict)\n",
    "\n",
    "rf = RandomForestClassifier(\n",
    "    n_estimators=300,\n",
    "    random_state=42,\n",
    "    max_depth=8,\n",
    "    min_samples_split=20,\n",
    "    min_samples_leaf=10,\n",
    "    n_jobs=-1,\n",
    "    class_weight=class_weights_dict\n",
    ")\n",
    "\n",
    "rf.fit(X_train_scaled, y_train)\n",
    "\n",
    "y_pred = rf.predict(X_test_scaled)"
   ]
  },
  {
   "cell_type": "markdown",
   "id": "05a885bf",
   "metadata": {},
   "source": [
    "### Evaluation"
   ]
  },
  {
   "cell_type": "code",
   "execution_count": null,
   "id": "45eca2d5",
   "metadata": {},
   "outputs": [],
   "source": [
    "test_subject_ids = adata.obs.loc[test_idx, \"Subject_ID\"]\n",
    "cell_results = pd.DataFrame({\n",
    "    \"Subject_ID\": test_subject_ids,\n",
    "    \"true\": y_test,\n",
    "    \"pred\": y_pred\n",
    "})\n",
    "cell_results"
   ]
  },
  {
   "cell_type": "code",
   "execution_count": null,
   "id": "74db06ef",
   "metadata": {},
   "outputs": [],
   "source": [
    "counts = cell_results.groupby(\"Subject_ID\")[\"pred\"].value_counts()\n",
    "patient_preds = counts.groupby(level=0).idxmax().map(lambda x: x[1])\n",
    "patient_preds"
   ]
  },
  {
   "cell_type": "code",
   "execution_count": null,
   "id": "f2c98418",
   "metadata": {},
   "outputs": [],
   "source": [
    "patient_true = (\n",
    "    cell_results.groupby(\"Subject_ID\")[\"true\"].first() \n",
    ")\n",
    "patient_true.dropna(inplace=True)"
   ]
  },
  {
   "cell_type": "code",
   "execution_count": null,
   "id": "7089c6a8",
   "metadata": {},
   "outputs": [],
   "source": [
    "final_evaluation_df = pd.merge(patient_true,patient_preds,on='Subject_ID',how='inner')\n",
    "final_evaluation_df.columns=['true','pred']\n",
    "final_evaluation_df"
   ]
  },
  {
   "cell_type": "code",
   "execution_count": null,
   "id": "bba8c767",
   "metadata": {},
   "outputs": [],
   "source": [
    "print(\"\\nClassification report:\\n\", classification_report(final_evaluation_df['true'], final_evaluation_df['pred']))\n",
    "\n",
    "cm = confusion_matrix(final_evaluation_df['true'], final_evaluation_df['pred'])\n",
    "print(\"Confusion Matrix:\\n\", cm)\n",
    "# Display\n",
    "disp = ConfusionMatrixDisplay(confusion_matrix=cm, display_labels=[0, 1])\n",
    "disp.plot(cmap=\"Blues\")\n",
    "plt.show()\n",
    "\n",
    "\n",
    "print(\"Balanced Accuracy:\", balanced_accuracy_score(final_evaluation_df['true'], final_evaluation_df['pred']))"
   ]
  },
  {
   "cell_type": "markdown",
   "id": "ae5324bf",
   "metadata": {},
   "source": [
    "## SHAP Analysis"
   ]
  },
  {
   "cell_type": "code",
   "execution_count": null,
   "id": "79ba4470",
   "metadata": {},
   "outputs": [],
   "source": [
    "explainer = shap.TreeExplainer(clf)\n",
    "shap_values = explainer.shap_values(X_test_scaled)"
   ]
  },
  {
   "cell_type": "code",
   "execution_count": null,
   "id": "2d53a826",
   "metadata": {},
   "outputs": [],
   "source": [
    "# Treated Class\n",
    "shap.summary_plot(shap_values, X_test_scaled, feature_names=feature_names)"
   ]
  },
  {
   "cell_type": "code",
   "execution_count": null,
   "id": "e89f9848",
   "metadata": {},
   "outputs": [],
   "source": [
    "# Plot SHAP for Class 1 of Random Forest\n",
    "sv_class1 = shap_values[:, :, 1]\n",
    "shap.summary_plot(sv_class1, features=X_test_scaled, feature_names=feature_names)"
   ]
  },
  {
   "cell_type": "code",
   "execution_count": null,
   "id": "686920b5",
   "metadata": {},
   "outputs": [],
   "source": [
    "# Plot both of them\n",
    "fig, axes = plt.subplots(1, shap_values.shape[2], figsize=(12, 6))\n",
    "\n",
    "for c in range(shap_values.shape[2]):\n",
    "    shap.summary_plot(\n",
    "        shap_values[:, :, c], \n",
    "        features=X_test_scaled, \n",
    "        feature_names=feature_names, \n",
    "        show=False,  \n",
    "        plot_size=None\n",
    "    )\n",
    "    plt.sca(axes[c])\n",
    "    plt.title(f\"Class {c}\")\n",
    "\n",
    "plt.tight_layout()\n",
    "plt.show()"
   ]
  },
  {
   "cell_type": "code",
   "execution_count": null,
   "id": "09dfdc38",
   "metadata": {},
   "outputs": [],
   "source": [
    "# shap diff plot\n",
    "shap_diff = shap_values[:, :, 1] - shap_values[:, :, 0]\n",
    "shap.summary_plot(\n",
    "    shap_diff, \n",
    "    features=X_test_scaled, \n",
    "    feature_names=feature_names\n",
    ")"
   ]
  },
  {
   "cell_type": "code",
   "execution_count": null,
   "id": "5a0887bb",
   "metadata": {},
   "outputs": [],
   "source": [
    "# Feature importance via mean(|SHAP|)\n",
    "mean_abs_shap = np.abs(shap_values[:,:,1]).mean(axis=0)\n",
    "fi = pd.Series(mean_abs_shap, index=feature_names).sort_values(ascending=False)\n",
    "print(\"\\nTop features by mean(|SHAP|):\\n\", fi.head(10))"
   ]
  },
  {
   "cell_type": "code",
   "execution_count": null,
   "id": "3ff6f31c",
   "metadata": {},
   "outputs": [],
   "source": [
    "n_classes = shap_values.shape[2]\n",
    "\n",
    "for c in range(n_classes):\n",
    "    mean_abs_shap = np.abs(shap_values[:, :, c]).mean(axis=0)\n",
    "    fi = pd.Series(mean_abs_shap, index=feature_names).sort_values(ascending=False)\n",
    "\n",
    "    plt.figure(figsize=(8, 6))\n",
    "    fi.head(10).plot(kind='barh')\n",
    "    plt.xlabel(\"Mean(|SHAP value|)\")\n",
    "    plt.ylabel(\"Features\")\n",
    "    # plt.title(f\"Top 10 Features by SHAP (Class {c})\")\n",
    "    plt.title(f\"Top 10 Features by SHAP (Treated Class)\")\n",
    "    plt.gca().invert_yaxis()\n",
    "    plt.show()"
   ]
  },
  {
   "cell_type": "markdown",
   "id": "f1deab96",
   "metadata": {},
   "source": [
    "# Modern Pipeline"
   ]
  },
  {
   "cell_type": "markdown",
   "id": "994beae8",
   "metadata": {},
   "source": [
    "### Preprocessing"
   ]
  },
  {
   "cell_type": "code",
   "execution_count": null,
   "id": "ad00233b",
   "metadata": {},
   "outputs": [],
   "source": [
    "# define numerical and categorical feature title\n",
    "# num_features = [col for col in X.columns if col.startswith(\"M\")]\n",
    "num_features = X.columns\n",
    "# cat_features = [\"Subject_ID\"]"
   ]
  },
  {
   "cell_type": "code",
   "execution_count": null,
   "id": "0886ffe4",
   "metadata": {},
   "outputs": [],
   "source": [
    "numeric_transformer = Pipeline(steps=[\n",
    "    (\"scaler\", StandardScaler())\n",
    "])\n",
    "\n",
    "categorical_transformer = Pipeline(steps=[\n",
    "    (\"onehot\", OneHotEncoder(handle_unknown=\"ignore\"))\n",
    "])\n",
    "\n",
    "preprocessor = ColumnTransformer(\n",
    "    transformers=[\n",
    "        (\"num\", numeric_transformer, num_features),\n",
    "        # (\"cat\", categorical_transformer, cat_features)\n",
    "    ])"
   ]
  },
  {
   "cell_type": "markdown",
   "id": "ccd771cc",
   "metadata": {},
   "source": [
    "### Define Classifier Pipeline with Preprocessor"
   ]
  },
  {
   "cell_type": "code",
   "execution_count": null,
   "id": "50e13056",
   "metadata": {},
   "outputs": [],
   "source": [
    "clf = Pipeline(steps=[\n",
    "    (\"preprocessor\", preprocessor),\n",
    "    (\"classifier\", RandomForestClassifier(n_estimators=300, random_state=42, max_depth=8, min_samples_split=20, min_samples_leaf=10))\n",
    "    # (\"classifier\", LogisticRegression(max_iter=1000))\n",
    "])"
   ]
  },
  {
   "cell_type": "code",
   "execution_count": null,
   "id": "07da1e48",
   "metadata": {},
   "outputs": [],
   "source": [
    "clf.fit(X_train, y_train)"
   ]
  },
  {
   "cell_type": "markdown",
   "id": "1f71b1f8",
   "metadata": {},
   "source": [
    "### Processed X data"
   ]
  },
  {
   "cell_type": "code",
   "execution_count": null,
   "id": "2a7f9fb7",
   "metadata": {},
   "outputs": [],
   "source": [
    "Xt = preprocessor.fit_transform(X_train)\n",
    "feature_names = preprocessor.get_feature_names_out()\n",
    "# Xt_df = pd.DataFrame(Xt.toarray(), columns=list(feature_names))\n",
    "Xt_df = pd.DataFrame(Xt, columns=list(feature_names))\n",
    "Xt_df"
   ]
  },
  {
   "cell_type": "code",
   "execution_count": null,
   "id": "ce68bcee",
   "metadata": {},
   "outputs": [],
   "source": [
    "# for col in [c for c in Xt_df.columns if c.startswith(\"num\")]:\n",
    "#     sns.boxplot(x=y_train, y=col, data=Xt_df)\n",
    "#     plt.title(f\"{col} by Treatment\")\n",
    "#     plt.show()"
   ]
  },
  {
   "cell_type": "markdown",
   "id": "d1ab204b",
   "metadata": {},
   "source": [
    "### Feature Importance"
   ]
  },
  {
   "cell_type": "code",
   "execution_count": null,
   "id": "56910200",
   "metadata": {},
   "outputs": [],
   "source": [
    "# Mutual Information (non-linear relationships)\n",
    "mi = mutual_info_classif(Xt_df, y_train, discrete_features='auto')\n",
    "mi_series = pd.Series(mi, index=Xt_df.columns).sort_values(ascending=False)\n",
    "mi_series"
   ]
  },
  {
   "cell_type": "code",
   "execution_count": null,
   "id": "a27397b6",
   "metadata": {},
   "outputs": [],
   "source": [
    "# Feature importance from a model\n",
    "importances = pd.Series(clf['classifier'].feature_importances_, index=Xt_df.columns).sort_values(ascending=False)\n",
    "importances"
   ]
  },
  {
   "cell_type": "code",
   "execution_count": null,
   "id": "4cf83e0d",
   "metadata": {},
   "outputs": [],
   "source": [
    "# Pearson / Point-biserial correlation (continuous features vs binary target)\n",
    "corr = Xt_df.corrwith(y_train)\n",
    "corr.sort_values()"
   ]
  },
  {
   "cell_type": "markdown",
   "id": "c14bfcda",
   "metadata": {},
   "source": [
    "### Model Evaluation"
   ]
  },
  {
   "cell_type": "code",
   "execution_count": null,
   "id": "cdf3c775",
   "metadata": {},
   "outputs": [],
   "source": [
    "y_pred = clf.predict(X_test)\n",
    "classification_report(y_test, y_pred)"
   ]
  },
  {
   "cell_type": "code",
   "execution_count": null,
   "id": "4cc79c32",
   "metadata": {},
   "outputs": [],
   "source": [
    "cm = confusion_matrix(y_test, y_pred)\n",
    "\n",
    "print(\"Confusion Matrix:\\n\", cm)\n",
    "\n",
    "# Display\n",
    "disp = ConfusionMatrixDisplay(confusion_matrix=cm, display_labels=[0, 1])\n",
    "disp.plot(cmap=\"Blues\")\n",
    "plt.show()"
   ]
  }
 ],
 "metadata": {
  "kernelspec": {
   "display_name": "venv (3.10.12)",
   "language": "python",
   "name": "python3"
  },
  "language_info": {
   "codemirror_mode": {
    "name": "ipython",
    "version": 3
   },
   "file_extension": ".py",
   "mimetype": "text/x-python",
   "name": "python",
   "nbconvert_exporter": "python",
   "pygments_lexer": "ipython3",
   "version": "3.10.12"
  }
 },
 "nbformat": 4,
 "nbformat_minor": 5
}
