{
 "cells": [
  {
   "cell_type": "code",
   "execution_count": null,
   "id": "d1e9cd94",
   "metadata": {},
   "outputs": [],
   "source": [
    "import warnings\n",
    "warnings.filterwarnings(\"ignore\")"
   ]
  },
  {
   "cell_type": "code",
   "execution_count": null,
   "id": "58dfb54d",
   "metadata": {},
   "outputs": [],
   "source": [
    "import pandas as pd\n",
    "import scanpy as sc\n",
    "import numpy as np\n",
    "import shap\n",
    "from sklearn.model_selection import train_test_split\n",
    "from sklearn.preprocessing import StandardScaler, OneHotEncoder, LabelEncoder\n",
    "from sklearn.compose import ColumnTransformer\n",
    "from sklearn.pipeline import Pipeline\n",
    "from sklearn.linear_model import LogisticRegression\n",
    "from sklearn.metrics import classification_report, confusion_matrix, ConfusionMatrixDisplay, accuracy_score\n",
    "from sklearn.feature_selection import mutual_info_classif\n",
    "from sklearn.ensemble import RandomForestClassifier\n",
    "import matplotlib.pyplot as plt\n",
    "from sklearn.model_selection import GroupShuffleSplit, StratifiedGroupKFold\n",
    "import seaborn as sns\n",
    "from pathlib import Path"
   ]
  },
  {
   "cell_type": "code",
   "execution_count": null,
   "id": "d0030bef",
   "metadata": {},
   "outputs": [],
   "source": [
    "base_dir = Path().resolve()\n",
    "parent_dir = base_dir.parent\n",
    "parent_dir"
   ]
  },
  {
   "cell_type": "markdown",
   "id": "8d294c84",
   "metadata": {
    "vscode": {
     "languageId": "bat"
    }
   },
   "source": [
    "## Read flux and TMA preprocessed Data"
   ]
  },
  {
   "cell_type": "markdown",
   "id": "e1cec637",
   "metadata": {},
   "source": [
    "### Read Metabolic Task data"
   ]
  },
  {
   "cell_type": "code",
   "execution_count": null,
   "id": "5987c53f",
   "metadata": {},
   "outputs": [],
   "source": [
    "metabolic_task_df = pd.read_csv(parent_dir / 'data/scCellFie/scCellFie_metabolic_tasks_with_name.csv', low_memory=False)\n",
    "metabolic_task_df.rename(columns={'Unnamed: 0':'cell'},inplace=True)\n",
    "metabolic_task_df.head()"
   ]
  },
  {
   "cell_type": "code",
   "execution_count": null,
   "id": "ddcd8cfc",
   "metadata": {},
   "outputs": [],
   "source": [
    "print(\"count of +inf:\", np.isposinf(metabolic_task_df.iloc[:,1:].to_numpy()).sum())\n",
    "print(\"count of -inf:\", np.isneginf(metabolic_task_df.iloc[:,1:].to_numpy()).sum())"
   ]
  },
  {
   "cell_type": "code",
   "execution_count": null,
   "id": "a1463f47",
   "metadata": {},
   "outputs": [],
   "source": [
    "metabolic_task_df = metabolic_task_df.replace(-np.inf, 0)"
   ]
  },
  {
   "cell_type": "markdown",
   "id": "dbf91082",
   "metadata": {},
   "source": [
    "### Read Reactions data"
   ]
  },
  {
   "cell_type": "code",
   "execution_count": null,
   "id": "db89fd01",
   "metadata": {},
   "outputs": [],
   "source": [
    "reactions_df = pd.read_csv(parent_dir / 'data/scCellFie/scCellFie_reactions_with_name.csv', low_memory=False)\n",
    "reactions_df.rename(columns={'Unnamed: 0':'cell'},inplace=True)\n",
    "reactions_df.head()"
   ]
  },
  {
   "cell_type": "code",
   "execution_count": null,
   "id": "b51b212e",
   "metadata": {},
   "outputs": [],
   "source": [
    "print(\"count of +inf:\", np.isposinf(reactions_df.iloc[:,1:].to_numpy()).sum())\n",
    "print(\"count of -inf:\", np.isneginf(reactions_df.iloc[:,1:].to_numpy()).sum())"
   ]
  },
  {
   "cell_type": "code",
   "execution_count": null,
   "id": "70dd284e",
   "metadata": {},
   "outputs": [],
   "source": [
    "reactions_df = reactions_df.replace(-np.inf, 0)"
   ]
  },
  {
   "cell_type": "markdown",
   "id": "dfb88747",
   "metadata": {},
   "source": [
    "### Read selected gene expression data"
   ]
  },
  {
   "cell_type": "code",
   "execution_count": null,
   "id": "82a963e5",
   "metadata": {},
   "outputs": [],
   "source": [
    "gene_df = pd.read_csv(parent_dir / 'data/scCellFie/scCellFie_genes_with_name.csv', low_memory=False)\n",
    "gene_df.rename(columns={'Unnamed: 0':'cell'},inplace=True)\n",
    "gene_df.head()"
   ]
  },
  {
   "cell_type": "code",
   "execution_count": null,
   "id": "b0babcbf",
   "metadata": {},
   "outputs": [],
   "source": [
    "print(\"count of +inf:\", np.isposinf(gene_df.iloc[:,1:].to_numpy()).sum())\n",
    "print(\"count of -inf:\", np.isneginf(gene_df.iloc[:,1:].to_numpy()).sum())"
   ]
  },
  {
   "cell_type": "markdown",
   "id": "63e1bd09",
   "metadata": {},
   "source": [
    "### Read adata data"
   ]
  },
  {
   "cell_type": "code",
   "execution_count": null,
   "id": "9e89e1e1",
   "metadata": {},
   "outputs": [],
   "source": [
    "adata = sc.read(parent_dir / 'data/h5ad/merged_TMA_processed_compatible.h5ad')\n",
    "adata"
   ]
  },
  {
   "cell_type": "code",
   "execution_count": null,
   "id": "fc9a01e9",
   "metadata": {},
   "outputs": [],
   "source": [
    "groups = adata.obs['Subject_ID']"
   ]
  },
  {
   "cell_type": "code",
   "execution_count": null,
   "id": "725a9f5a",
   "metadata": {},
   "outputs": [],
   "source": [
    "# Extract UMAP\n",
    "umap_df = pd.DataFrame(\n",
    "    adata.obsm['X_umap'],\n",
    "    index=adata.obs.index,\n",
    "    columns=['UMAP1', 'UMAP2']\n",
    ")\n",
    "\n",
    "# Extract spatial\n",
    "spatial_df = pd.DataFrame(\n",
    "    adata.obsm['spatial'],\n",
    "    index=adata.obs.index,\n",
    "    columns=['X_spatial', 'Y_spatial']\n",
    ")\n",
    "\n",
    "# Concatenate along columns\n",
    "coords_df = pd.concat([umap_df, spatial_df], axis=1)\n",
    "coords_df = coords_df.reset_index().rename(columns={\"index\": \"cell\"})\n",
    "coords_df"
   ]
  },
  {
   "cell_type": "code",
   "execution_count": null,
   "id": "a38650a7",
   "metadata": {},
   "outputs": [],
   "source": [
    "cols = [\"Treatment_Status\", \"Subject_ID\", \"sample\", \"leiden\" ]\n",
    "\n",
    "obs_df = adata.obs[cols].copy()\n",
    "obs_df = adata.obs[cols].reset_index().rename(columns={\"index\": \"cell\"})\n",
    "obs_df"
   ]
  },
  {
   "cell_type": "code",
   "execution_count": null,
   "id": "470d8d1f",
   "metadata": {},
   "outputs": [],
   "source": [
    "obs_coords_df = obs_df.merge(coords_df, on=\"cell\", how=\"inner\")\n",
    "obs_coords_df"
   ]
  },
  {
   "cell_type": "markdown",
   "id": "b0b72711",
   "metadata": {},
   "source": [
    "### Merge datasets"
   ]
  },
  {
   "cell_type": "code",
   "execution_count": null,
   "id": "5c003784",
   "metadata": {},
   "outputs": [],
   "source": [
    "# merged_df = metabolic_task_df.merge(obs_coords_df, on=\"cell\", how=\"inner\") \\\n",
    "#                .merge(reactions_df, on=\"cell\", how=\"inner\") \\\n",
    "#                .merge(gene_df, on=\"cell\", how=\"inner\")\n",
    "\n",
    "merged_df = gene_df.merge(obs_coords_df, on=\"cell\", how=\"inner\") \\\n",
    "               .merge(reactions_df, on=\"cell\", how=\"inner\")\n",
    "\n",
    "# merged_df = metabolic_task_df.merge(obs_coords_df, on=\"cell\", how=\"inner\")\n",
    "# merged_df"
   ]
  },
  {
   "cell_type": "code",
   "execution_count": null,
   "id": "d6fe7d5e",
   "metadata": {},
   "outputs": [],
   "source": [
    "# merged_df = flux_df.merge(obs_coords_df, on=\"cell\", how=\"inner\")\n",
    "# merged_df"
   ]
  },
  {
   "cell_type": "markdown",
   "id": "1bb28897",
   "metadata": {},
   "source": [
    "### Distribution of Cell count and status per Subject ID"
   ]
  },
  {
   "cell_type": "code",
   "execution_count": null,
   "id": "af0c7ad4",
   "metadata": {},
   "outputs": [],
   "source": [
    "status_counts = merged_df.groupby([\"Subject_ID\", \"Treatment_Status\"]).size().unstack(fill_value=0)\n",
    "status_counts"
   ]
  },
  {
   "cell_type": "code",
   "execution_count": null,
   "id": "a513dfdc",
   "metadata": {},
   "outputs": [],
   "source": [
    "cell_counts = merged_df.groupby(\"Subject_ID\")[\"cell\"].nunique()\n",
    "cell_counts"
   ]
  },
  {
   "cell_type": "code",
   "execution_count": null,
   "id": "736f0a29",
   "metadata": {},
   "outputs": [],
   "source": [
    "summary = status_counts.join(cell_counts.rename(\"num_cells\"))\n",
    "summary"
   ]
  },
  {
   "cell_type": "markdown",
   "id": "f94c137d",
   "metadata": {},
   "source": [
    "## Feature Selection and Dataset Creation"
   ]
  },
  {
   "cell_type": "code",
   "execution_count": null,
   "id": "d7bb407e",
   "metadata": {},
   "outputs": [],
   "source": [
    "# nums = [str(i) for i in range(107)]\n",
    "# nums\n",
    "dataset = merged_df.drop(columns=[\"cell\", \"sample\"])\n",
    "dataset"
   ]
  },
  {
   "cell_type": "code",
   "execution_count": null,
   "id": "7c563665",
   "metadata": {},
   "outputs": [],
   "source": [
    "# dataset = merged_df[[\"M_4\",\"M_6\",\"M_15\",\"Subject_ID\",\"Treatment_Status\"]]\n",
    "dataset[\"treatment_encoded\"] = dataset[\"Treatment_Status\"].map({\"Untreated\": 0, \"Treated\": 1})\n",
    "dataset"
   ]
  },
  {
   "cell_type": "markdown",
   "id": "2d64ffd7",
   "metadata": {},
   "source": [
    "### Class Balance Analysis"
   ]
  },
  {
   "cell_type": "code",
   "execution_count": null,
   "id": "1d5f86a1",
   "metadata": {},
   "outputs": [],
   "source": [
    "dataset[\"Treatment_Status\"].value_counts()"
   ]
  },
  {
   "cell_type": "code",
   "execution_count": null,
   "id": "f49a23b4",
   "metadata": {},
   "outputs": [],
   "source": [
    "plt.figure(figsize=(5,4))\n",
    "dataset[\"Treatment_Status\"].value_counts().plot(\n",
    "    kind=\"bar\",\n",
    "    color=[\"skyblue\", \"salmon\"]\n",
    ")\n",
    "plt.title(\"Label Distribution (Treated vs UnTreated)\")\n",
    "plt.ylabel(\"Count\")\n",
    "plt.xlabel(\"Class\")\n",
    "plt.xticks(rotation=0)\n",
    "plt.show()"
   ]
  },
  {
   "cell_type": "markdown",
   "id": "d00ebf7a",
   "metadata": {},
   "source": [
    "# Classification Problem (Treated vs Untreated Cells)"
   ]
  },
  {
   "cell_type": "markdown",
   "id": "0182da60",
   "metadata": {},
   "source": [
    "## Dataset Definition"
   ]
  },
  {
   "cell_type": "code",
   "execution_count": null,
   "id": "4bf60691",
   "metadata": {},
   "outputs": [],
   "source": [
    "X = dataset.drop(columns=[\"Treatment_Status\",\"Subject_ID\",\"treatment_encoded\"])\n",
    "y = dataset[\"treatment_encoded\"]\n",
    "feature_names = X.columns.tolist()"
   ]
  },
  {
   "cell_type": "code",
   "execution_count": null,
   "id": "63981fe1",
   "metadata": {},
   "outputs": [],
   "source": [
    "X_train, X_test, y_train, y_test = train_test_split(X, y, test_size=0.2, random_state=42, stratify=y)"
   ]
  },
  {
   "cell_type": "code",
   "execution_count": null,
   "id": "eb547afb",
   "metadata": {},
   "outputs": [],
   "source": [
    "gss = GroupShuffleSplit(n_splits=1, test_size=0.2, random_state=42)\n",
    "\n",
    "for train_idx, test_idx in gss.split(X, y, groups=groups):\n",
    "    X_train, X_test = X.iloc[train_idx], X.iloc[test_idx]\n",
    "    y_train, y_test = y.iloc[train_idx], y.iloc[test_idx]"
   ]
  },
  {
   "cell_type": "code",
   "execution_count": null,
   "id": "6bfff3cf",
   "metadata": {},
   "outputs": [],
   "source": [
    "sgkf = StratifiedGroupKFold(n_splits=5)\n",
    "\n",
    "for train_idx, test_idx in sgkf.split(X, y, groups=groups):\n",
    "    print(\"Train subjects:\", len(set(groups[train_idx])))\n",
    "    print(\"Test subjects:\", len(set(groups[test_idx])))\n",
    "    print(\"Train treated ratio:\", (y[train_idx]==1).mean())\n",
    "    print(\"Test treated ratio:\", (y[test_idx]==1).mean())\n",
    "    break"
   ]
  },
  {
   "cell_type": "markdown",
   "id": "f666e753",
   "metadata": {},
   "source": [
    "## Classic Pipeline"
   ]
  },
  {
   "cell_type": "code",
   "execution_count": null,
   "id": "1fc5614b",
   "metadata": {},
   "outputs": [],
   "source": [
    "# Standardization Dataset\n",
    "scaler = StandardScaler()\n",
    "X_train_scaled = pd.DataFrame(\n",
    "    scaler.fit_transform(X_train),\n",
    "    columns=feature_names,\n",
    "    index=X_train.index\n",
    ")\n",
    "X_test_scaled = pd.DataFrame(\n",
    "    scaler.transform(X_test),\n",
    "    columns=feature_names,\n",
    "    index=X_test.index\n",
    ")"
   ]
  },
  {
   "cell_type": "code",
   "execution_count": null,
   "id": "525cf645",
   "metadata": {},
   "outputs": [],
   "source": [
    "# Train Randomforest Classifier\n",
    "rf = RandomForestClassifier(\n",
    "   n_estimators=300, \n",
    "   random_state=42, \n",
    "   max_depth=8, \n",
    "   min_samples_split=20, \n",
    "   min_samples_leaf=10,\n",
    "   n_jobs=-1\n",
    ")\n",
    "rf.fit(X_train_scaled, y_train)"
   ]
  },
  {
   "cell_type": "code",
   "execution_count": null,
   "id": "ddae02be",
   "metadata": {},
   "outputs": [],
   "source": [
    "y_pred = rf.predict(X_test_scaled)"
   ]
  },
  {
   "cell_type": "code",
   "execution_count": null,
   "id": "47da26f6",
   "metadata": {},
   "outputs": [],
   "source": [
    "print(classification_report(y_pred=y_pred, y_true=y_test))"
   ]
  },
  {
   "cell_type": "code",
   "execution_count": null,
   "id": "bb655dae",
   "metadata": {},
   "outputs": [],
   "source": [
    "cm = confusion_matrix(y_test, y_pred)\n",
    "\n",
    "print(\"Confusion Matrix:\\n\", cm)\n",
    "\n",
    "# Display\n",
    "disp = ConfusionMatrixDisplay(confusion_matrix=cm, display_labels=[0, 1])\n",
    "disp.plot(cmap=\"Blues\")\n",
    "plt.show()"
   ]
  },
  {
   "cell_type": "code",
   "execution_count": null,
   "id": "c00ffba5",
   "metadata": {},
   "outputs": [],
   "source": [
    "df_pred = pd.DataFrame({\n",
    "    \"subject\": adata.obs.iloc[test_idx][\"Subject_ID\"].values,\n",
    "    \"true\": y_test,\n",
    "    \"pred\": y_pred\n",
    "})\n",
    "df_pred"
   ]
  },
  {
   "cell_type": "code",
   "execution_count": null,
   "id": "b8b1aa42",
   "metadata": {},
   "outputs": [],
   "source": [
    "valid_groups = df_pred.groupby(\"subject\").filter(lambda x: len(x) > 0)\n",
    "valid_groups"
   ]
  },
  {
   "cell_type": "code",
   "execution_count": null,
   "id": "4328e287",
   "metadata": {},
   "outputs": [],
   "source": [
    "def majority_vote(x):\n",
    "    if x.empty:\n",
    "        return np.nan\n",
    "    return x.mode().iloc[0]\n",
    "\n",
    "subject_pred = df_pred.groupby(\"subject\")[\"pred\"].apply(majority_vote).dropna()\n",
    "subject_true = df_pred.groupby(\"subject\")[\"true\"].first().loc[subject_pred.index]\n",
    "\n",
    "acc_subject = (subject_pred == subject_true).mean()\n",
    "print(\"Subject-level accuracy:\", acc_subject)"
   ]
  },
  {
   "cell_type": "code",
   "execution_count": null,
   "id": "c68d1aa3",
   "metadata": {},
   "outputs": [],
   "source": [
    "from sklearn.metrics import balanced_accuracy_score\n",
    "print(\"Balanced Accuracy:\", balanced_accuracy_score(subject_true, subject_pred))"
   ]
  },
  {
   "cell_type": "markdown",
   "id": "ae5324bf",
   "metadata": {},
   "source": [
    "## SHAP Analysis"
   ]
  },
  {
   "cell_type": "code",
   "execution_count": null,
   "id": "79ba4470",
   "metadata": {},
   "outputs": [],
   "source": [
    "explainer = shap.TreeExplainer(rf)\n",
    "shap_values = explainer.shap_values(X_test_scaled)"
   ]
  },
  {
   "cell_type": "code",
   "execution_count": null,
   "id": "e89f9848",
   "metadata": {},
   "outputs": [],
   "source": [
    "sv_class1 = shap_values[:, :, 1]\n",
    "shap.summary_plot(sv_class1, features=X_test_scaled, feature_names=feature_names)"
   ]
  },
  {
   "cell_type": "code",
   "execution_count": null,
   "id": "686920b5",
   "metadata": {},
   "outputs": [],
   "source": [
    "# Plot both of them\n",
    "fig, axes = plt.subplots(1, shap_values.shape[2], figsize=(12, 6))\n",
    "\n",
    "for c in range(shap_values.shape[2]):\n",
    "    shap.summary_plot(\n",
    "        shap_values[:, :, c], \n",
    "        features=X_test_scaled, \n",
    "        feature_names=feature_names, \n",
    "        show=False,  \n",
    "        plot_size=None\n",
    "    )\n",
    "    plt.sca(axes[c])\n",
    "    plt.title(f\"Class {c}\")\n",
    "\n",
    "plt.tight_layout()\n",
    "plt.show()"
   ]
  },
  {
   "cell_type": "code",
   "execution_count": null,
   "id": "09dfdc38",
   "metadata": {},
   "outputs": [],
   "source": [
    "# shap diff plot\n",
    "shap_diff = shap_values[:, :, 1] - shap_values[:, :, 0]\n",
    "shap.summary_plot(\n",
    "    shap_diff, \n",
    "    features=X_test_scaled, \n",
    "    feature_names=feature_names\n",
    ")"
   ]
  },
  {
   "cell_type": "code",
   "execution_count": null,
   "id": "5a0887bb",
   "metadata": {},
   "outputs": [],
   "source": [
    "# Feature importance via mean(|SHAP|)\n",
    "mean_abs_shap = np.abs(shap_values[:,:,1]).mean(axis=0)\n",
    "fi = pd.Series(mean_abs_shap, index=feature_names).sort_values(ascending=False)\n",
    "print(\"\\nTop features by mean(|SHAP|):\\n\", fi.head(10))"
   ]
  },
  {
   "cell_type": "code",
   "execution_count": null,
   "id": "3ff6f31c",
   "metadata": {},
   "outputs": [],
   "source": [
    "n_classes = shap_values.shape[2]\n",
    "\n",
    "for c in range(n_classes):\n",
    "    mean_abs_shap = np.abs(shap_values[:, :, c]).mean(axis=0)\n",
    "    fi = pd.Series(mean_abs_shap, index=feature_names).sort_values(ascending=False)\n",
    "\n",
    "    plt.figure(figsize=(8, 6))\n",
    "    fi.head(10).plot(kind='barh')\n",
    "    plt.xlabel(\"Mean(|SHAP value|)\")\n",
    "    plt.ylabel(\"Features\")\n",
    "    # plt.title(f\"Top 10 Features by SHAP (Class {c})\")\n",
    "    plt.title(f\"Top 10 Features by SHAP (Treated Class)\")\n",
    "    plt.gca().invert_yaxis()\n",
    "    plt.show()"
   ]
  },
  {
   "cell_type": "markdown",
   "id": "f1deab96",
   "metadata": {},
   "source": [
    "# Modern Pipeline"
   ]
  },
  {
   "cell_type": "markdown",
   "id": "994beae8",
   "metadata": {},
   "source": [
    "### Preprocessing"
   ]
  },
  {
   "cell_type": "code",
   "execution_count": null,
   "id": "ad00233b",
   "metadata": {},
   "outputs": [],
   "source": [
    "# define numerical and categorical feature title\n",
    "# num_features = [col for col in X.columns if col.startswith(\"M\")]\n",
    "num_features = X.columns\n",
    "# cat_features = [\"Subject_ID\"]"
   ]
  },
  {
   "cell_type": "code",
   "execution_count": null,
   "id": "0886ffe4",
   "metadata": {},
   "outputs": [],
   "source": [
    "numeric_transformer = Pipeline(steps=[\n",
    "    (\"scaler\", StandardScaler())\n",
    "])\n",
    "\n",
    "categorical_transformer = Pipeline(steps=[\n",
    "    (\"onehot\", OneHotEncoder(handle_unknown=\"ignore\"))\n",
    "])\n",
    "\n",
    "preprocessor = ColumnTransformer(\n",
    "    transformers=[\n",
    "        (\"num\", numeric_transformer, num_features),\n",
    "        # (\"cat\", categorical_transformer, cat_features)\n",
    "    ])"
   ]
  },
  {
   "cell_type": "markdown",
   "id": "ccd771cc",
   "metadata": {},
   "source": [
    "### Define Classifier Pipeline with Preprocessor"
   ]
  },
  {
   "cell_type": "code",
   "execution_count": null,
   "id": "50e13056",
   "metadata": {},
   "outputs": [],
   "source": [
    "clf = Pipeline(steps=[\n",
    "    (\"preprocessor\", preprocessor),\n",
    "    (\"classifier\", RandomForestClassifier(n_estimators=300, random_state=42, max_depth=8, min_samples_split=20, min_samples_leaf=10))\n",
    "    # (\"classifier\", LogisticRegression(max_iter=1000))\n",
    "])"
   ]
  },
  {
   "cell_type": "code",
   "execution_count": null,
   "id": "07da1e48",
   "metadata": {},
   "outputs": [],
   "source": [
    "clf.fit(X_train, y_train)"
   ]
  },
  {
   "cell_type": "markdown",
   "id": "1f71b1f8",
   "metadata": {},
   "source": [
    "### Processed X data"
   ]
  },
  {
   "cell_type": "code",
   "execution_count": null,
   "id": "2a7f9fb7",
   "metadata": {},
   "outputs": [],
   "source": [
    "Xt = preprocessor.fit_transform(X_train)\n",
    "feature_names = preprocessor.get_feature_names_out()\n",
    "# Xt_df = pd.DataFrame(Xt.toarray(), columns=list(feature_names))\n",
    "Xt_df = pd.DataFrame(Xt, columns=list(feature_names))\n",
    "Xt_df"
   ]
  },
  {
   "cell_type": "code",
   "execution_count": null,
   "id": "ce68bcee",
   "metadata": {},
   "outputs": [],
   "source": [
    "# for col in [c for c in Xt_df.columns if c.startswith(\"num\")]:\n",
    "#     sns.boxplot(x=y_train, y=col, data=Xt_df)\n",
    "#     plt.title(f\"{col} by Treatment\")\n",
    "#     plt.show()"
   ]
  },
  {
   "cell_type": "markdown",
   "id": "d1ab204b",
   "metadata": {},
   "source": [
    "### Feature Importance"
   ]
  },
  {
   "cell_type": "code",
   "execution_count": null,
   "id": "56910200",
   "metadata": {},
   "outputs": [],
   "source": [
    "# Mutual Information (non-linear relationships)\n",
    "mi = mutual_info_classif(Xt_df, y_train, discrete_features='auto')\n",
    "mi_series = pd.Series(mi, index=Xt_df.columns).sort_values(ascending=False)\n",
    "mi_series"
   ]
  },
  {
   "cell_type": "code",
   "execution_count": null,
   "id": "a27397b6",
   "metadata": {},
   "outputs": [],
   "source": [
    "# Feature importance from a model\n",
    "importances = pd.Series(clf['classifier'].feature_importances_, index=Xt_df.columns).sort_values(ascending=False)\n",
    "importances"
   ]
  },
  {
   "cell_type": "code",
   "execution_count": null,
   "id": "4cf83e0d",
   "metadata": {},
   "outputs": [],
   "source": [
    "# Pearson / Point-biserial correlation (continuous features vs binary target)\n",
    "corr = Xt_df.corrwith(y_train)\n",
    "corr.sort_values()"
   ]
  },
  {
   "cell_type": "markdown",
   "id": "c14bfcda",
   "metadata": {},
   "source": [
    "### Model Evaluation"
   ]
  },
  {
   "cell_type": "code",
   "execution_count": null,
   "id": "cdf3c775",
   "metadata": {},
   "outputs": [],
   "source": [
    "y_pred = clf.predict(X_test)\n",
    "classification_report(y_test, y_pred)"
   ]
  },
  {
   "cell_type": "code",
   "execution_count": null,
   "id": "4cc79c32",
   "metadata": {},
   "outputs": [],
   "source": [
    "cm = confusion_matrix(y_test, y_pred)\n",
    "\n",
    "print(\"Confusion Matrix:\\n\", cm)\n",
    "\n",
    "# Display\n",
    "disp = ConfusionMatrixDisplay(confusion_matrix=cm, display_labels=[0, 1])\n",
    "disp.plot(cmap=\"Blues\")\n",
    "plt.show()"
   ]
  }
 ],
 "metadata": {
  "kernelspec": {
   "display_name": "spFlux",
   "language": "python",
   "name": "venv"
  },
  "language_info": {
   "codemirror_mode": {
    "name": "ipython",
    "version": 3
   },
   "file_extension": ".py",
   "mimetype": "text/x-python",
   "name": "python",
   "nbconvert_exporter": "python",
   "pygments_lexer": "ipython3",
   "version": "3.10.12"
  }
 },
 "nbformat": 4,
 "nbformat_minor": 5
}
