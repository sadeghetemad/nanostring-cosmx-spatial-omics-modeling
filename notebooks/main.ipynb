{
 "cells": [
  {
   "cell_type": "code",
   "execution_count": null,
   "id": "79aade2a",
   "metadata": {},
   "outputs": [],
   "source": [
    "import warnings\n",
    "warnings.filterwarnings(\"ignore\")"
   ]
  },
  {
   "cell_type": "code",
   "execution_count": null,
   "id": "3653be59",
   "metadata": {},
   "outputs": [],
   "source": [
    "import squidpy as sq\n",
    "import sccellfie\n",
    "import scanpy as sc\n",
    "import pandas as pd\n",
    "import numpy as np\n",
    "\n",
    "import matplotlib.pyplot as plt\n",
    "import seaborn as sns\n",
    "import glasbey\n",
    "import h5py\n",
    "\n",
    "import textwrap\n",
    "\n",
    "from pathlib import Path"
   ]
  },
  {
   "cell_type": "markdown",
   "id": "565502c3",
   "metadata": {},
   "source": [
    "## Load Datasets"
   ]
  },
  {
   "cell_type": "code",
   "execution_count": null,
   "id": "e7971740",
   "metadata": {},
   "outputs": [],
   "source": [
    "with h5py.File(\"merged_TMA_processed.h5ad\", \"r+\") as f:\n",
    "    if \"uns\" in f and \"log1p\" in f[\"uns\"] and \"base\" in f[\"uns/log1p\"]:\n",
    "        del f[\"uns/log1p/base\"]"
   ]
  },
  {
   "cell_type": "code",
   "execution_count": null,
   "id": "ed19b87a",
   "metadata": {},
   "outputs": [],
   "source": [
    "# Load the dataset\n",
    "adata = sc.read(filename='merged_TMA_processed.h5ad')\n",
    "adata"
   ]
  },
  {
   "cell_type": "code",
   "execution_count": null,
   "id": "1c1152e7",
   "metadata": {},
   "outputs": [],
   "source": [
    "adata.var_names = adata.var[\"gene\"].astype(str)\n",
    "adata.var_names_make_unique()"
   ]
  },
  {
   "cell_type": "code",
   "execution_count": null,
   "id": "92c6a6d3",
   "metadata": {},
   "outputs": [],
   "source": [
    "subject_treatment_df = pd.DataFrame(adata.obs[[\"Subject_ID\",\"Treatment_Status\"]])\n",
    "subject_treatment_df"
   ]
  },
  {
   "cell_type": "code",
   "execution_count": null,
   "id": "fdc87e03",
   "metadata": {},
   "outputs": [],
   "source": [
    "adata.obs[[\"Subject_ID\",\"Treatment_Status\"]]"
   ]
  },
  {
   "cell_type": "code",
   "execution_count": null,
   "id": "0672c27a",
   "metadata": {},
   "outputs": [],
   "source": [
    "aa = adata.obs[[\"Treatment_Status\",\"Subject_ID\"]]\n",
    "aa[aa[\"Subject_ID\"]=='89397']"
   ]
  },
  {
   "cell_type": "code",
   "execution_count": null,
   "id": "82051b0d",
   "metadata": {},
   "outputs": [],
   "source": [
    "dot_color_df = pd.DataFrame({\n",
    "    \"Treated\":   (adata.obs[\"Treatment_Status\"].astype(str) == \"Treated\").astype(int),\n",
    "    \"Untreated\": (adata.obs[\"Treatment_Status\"].astype(str) == \"Untreated\").astype(int)\n",
    "}, index=adata.obs_names)"
   ]
  },
  {
   "cell_type": "code",
   "execution_count": null,
   "id": "b5e7164a",
   "metadata": {},
   "outputs": [],
   "source": [
    "adata.obs[\"Treated\"]   = (adata.obs[\"Treatment_Status\"].astype(str) == \"Treated\").astype(int)\n",
    "adata.obs[\"Untreated\"] = (adata.obs[\"Treatment_Status\"].astype(str) == \"Untreated\").astype(int)\n"
   ]
  },
  {
   "cell_type": "code",
   "execution_count": null,
   "id": "740d0202",
   "metadata": {},
   "outputs": [],
   "source": [
    "sc.pl.dotplot(\n",
    "    adata,\n",
    "    var_names=[\"Treated\",\"Untreated\"],   # now valid\n",
    "    groupby=\"Subject_ID\",\n",
    "    mean_only_expressed=False,\n",
    "    expression_cutoff=0,\n",
    "    swap_axes=False,\n",
    "    vmin=0, vmax=1,\n",
    "    colorbar_title=\"Fraction of cells\"\n",
    ")\n"
   ]
  },
  {
   "cell_type": "code",
   "execution_count": null,
   "id": "de069bdc",
   "metadata": {},
   "outputs": [],
   "source": [
    "sc.pl.dotplot(adata, var_names=results['adata'].var.index, groupby=['Subject_ID','Treatment_Status'], swap_axes=True, standard_scale='var')"
   ]
  },
  {
   "cell_type": "code",
   "execution_count": null,
   "id": "3747b9b6",
   "metadata": {},
   "outputs": [],
   "source": [
    "adata.var_names"
   ]
  },
  {
   "cell_type": "code",
   "execution_count": null,
   "id": "d8e567ec",
   "metadata": {},
   "outputs": [],
   "source": [
    "# Make the dotplot: subjects × treatment groups\n",
    "sc.pl.dotplot(\n",
    "    adata,\n",
    "    var_names=adata.var_names,\n",
    "    groupby=['Subject_ID','Treatment_Status'],\n",
    "    swap_axes=False,\n",
    "    standard_scale=None,\n",
    "    mean_only_expressed=True,\n",
    "    expression_cutoff=0,\n",
    "    return_fig=True   # <- IMPORTANT so we can edit borders\n",
    ")\n"
   ]
  },
  {
   "cell_type": "markdown",
   "id": "6394ff63",
   "metadata": {},
   "source": [
    "## Apply scCellFie Pipeline"
   ]
  },
  {
   "cell_type": "code",
   "execution_count": null,
   "id": "77da9fc0",
   "metadata": {},
   "outputs": [],
   "source": [
    "results = sccellfie.run_sccellfie_pipeline(adata,\n",
    "                                           organism='human',\n",
    "                                           sccellfie_data_folder=None,\n",
    "                                           n_counts_col='nCount_Nanostring',\n",
    "                                           process_by_group=False,\n",
    "                                           groupby=None,\n",
    "                                           neighbors_key='neighbors',\n",
    "                                           n_neighbors=10,\n",
    "                                           batch_key='sample',\n",
    "                                           threshold_key='sccellfie_threshold',\n",
    "                                           smooth_cells=True,\n",
    "                                           alpha=0.33,\n",
    "                                           chunk_size=5000,\n",
    "                                           disable_pbar=False,\n",
    "                                           save_folder=None,\n",
    "                                           save_filename=None\n",
    "                                          )"
   ]
  },
  {
   "cell_type": "markdown",
   "id": "b950cdef",
   "metadata": {},
   "source": [
    "## scCellFie Result Data Understanding"
   ]
  },
  {
   "cell_type": "code",
   "execution_count": null,
   "id": "7d69c7aa",
   "metadata": {},
   "outputs": [],
   "source": [
    "results"
   ]
  },
  {
   "cell_type": "code",
   "execution_count": null,
   "id": "fb6200ff",
   "metadata": {},
   "outputs": [],
   "source": [
    "metabolic_data = results['adata'].metabolic_tasks\n",
    "metabolic_data"
   ]
  },
  {
   "cell_type": "code",
   "execution_count": null,
   "id": "c3fd3871",
   "metadata": {},
   "outputs": [],
   "source": [
    "reaction_data = results['adata'].reactions\n",
    "reaction_data"
   ]
  },
  {
   "cell_type": "markdown",
   "id": "14d73a9c",
   "metadata": {},
   "source": [
    "## Save Gene, Reactions and Metabolic Tasks as CSV"
   ]
  },
  {
   "cell_type": "code",
   "execution_count": null,
   "id": "5ca58f6d",
   "metadata": {},
   "outputs": [],
   "source": [
    "# df = pd.DataFrame(\n",
    "#     results['adata'].metabolic_tasks.X,\n",
    "#     index=results['adata'].metabolic_tasks.obs.index,\n",
    "#     columns=results['adata'].metabolic_tasks.var.index\n",
    "#     )\n",
    "# df"
   ]
  },
  {
   "cell_type": "code",
   "execution_count": null,
   "id": "7df78af8",
   "metadata": {},
   "outputs": [],
   "source": [
    "# df.to_csv('scCellFie_metabolic_tasks_with_name.csv')"
   ]
  },
  {
   "cell_type": "code",
   "execution_count": null,
   "id": "43184177",
   "metadata": {},
   "outputs": [],
   "source": [
    "# Save adata objects containing single-cell/spatial predictions in H5AD format\n",
    "ccellfie.io.save_adata(adata=results['adata'],\n",
    "                        output_directory='output/',\n",
    "                        filename='sccellfie_results'\n",
    "                        )"
   ]
  },
  {
   "cell_type": "markdown",
   "id": "5d12eeec",
   "metadata": {},
   "source": [
    "## Visualization on scCellFie Data"
   ]
  },
  {
   "cell_type": "code",
   "execution_count": null,
   "id": "f3aae999",
   "metadata": {},
   "outputs": [],
   "source": [
    "group_by = 'Subject_ID'"
   ]
  },
  {
   "cell_type": "markdown",
   "id": "7ce500c3",
   "metadata": {},
   "source": [
    "### Cell group level for the Metabolic Task Visualizer"
   ]
  },
  {
   "cell_type": "code",
   "execution_count": null,
   "id": "f0bc39cd",
   "metadata": {},
   "outputs": [],
   "source": [
    "# Summarize results in a cell-group level for the Metabolic Task Visualizer\n",
    "report = sccellfie.reports.generate_report_from_adata(results['adata'].metabolic_tasks,\n",
    "                                                      group_by=gp,\n",
    "                                                      feature_name='metabolic_task'\n",
    "                                                      )"
   ]
  },
  {
   "cell_type": "code",
   "execution_count": null,
   "id": "0dc69481",
   "metadata": {},
   "outputs": [],
   "source": [
    "# Export files to a specific folder.\n",
    "sccellfie.io.save_result_summary(results_dict=report, output_directory='report/')"
   ]
  },
  {
   "cell_type": "code",
   "execution_count": null,
   "id": "47a1710b",
   "metadata": {},
   "outputs": [],
   "source": [
    "# metabolic_tasks = ['ATP generation from glucose (hypoxic conditions) - glycolysis', \n",
    "#                    'ATP regeneration from glucose (normoxic conditions) - glycolysis + krebs cycle',\n",
    "#                    'Gluconeogenesis from Lactate',\n",
    "#                    'Glutaminolysis (glutamine to lactate)',\n",
    "#                    'Glucose to lactate conversion'\n",
    "#                   ]\n",
    "metabolic_tasks = results['adata'].metabolic_tasks.var.index.tolist()\n",
    "metabolic_tasks"
   ]
  },
  {
   "cell_type": "code",
   "execution_count": null,
   "id": "ff8d4b90",
   "metadata": {},
   "outputs": [],
   "source": [
    "palette = glasbey.extend_palette('Set2', palette_size=max([10, results['adata'].metabolic_tasks.obs[gp].unique().shape[0]]))\n",
    "\n",
    "plt.rcParams['figure.figsize'] = (3,3)\n",
    "plt.rcParams['font.size'] = 10\n",
    "\n",
    "sc.pl.embedding(results['adata'].metabolic_tasks,\n",
    "                color=[gp] + metabolic_tasks,\n",
    "                ncols=1,\n",
    "                palette=palette,\n",
    "                frameon=False,\n",
    "                basis='X_umap',\n",
    "                wspace=0.7,\n",
    "                title=[\"\\n\".join(textwrap.wrap(t, width=60)) for t in [gp] + metabolic_tasks],\n",
    "                cmap='OrRd'\n",
    "               )"
   ]
  },
  {
   "cell_type": "code",
   "execution_count": null,
   "id": "9485a37c",
   "metadata": {},
   "outputs": [],
   "source": [
    "# Violin Plot\n",
    "fig, axes = sccellfie.plotting.create_multi_violin_plots(results['adata'].metabolic_tasks,\n",
    "                                                         features=metabolic_tasks,\n",
    "                                                         groupby=gp,\n",
    "                                                         stripplot=False,\n",
    "                                                         n_cols=2,\n",
    "                                                         ylabel='Metabolic Score'\n",
    "                                                        )"
   ]
  },
  {
   "cell_type": "code",
   "execution_count": null,
   "id": "f56e5e12",
   "metadata": {},
   "outputs": [],
   "source": [
    "ax = sc.pl.stacked_violin(results['adata'].metabolic_tasks, metabolic_tasks, groupby=gp, swap_axes=True, dendrogram=False, standard_scale='var')"
   ]
  },
  {
   "cell_type": "markdown",
   "id": "ce96657c",
   "metadata": {},
   "source": [
    "### Dot Plot"
   ]
  },
  {
   "cell_type": "code",
   "execution_count": null,
   "id": "d74badd7",
   "metadata": {},
   "outputs": [],
   "source": [
    "# Genes\n",
    "sc.pl.dotplot(results['adata'], var_names=results['adata'].var.index, groupby=gp, swap_axes=True, standard_scale='var')"
   ]
  },
  {
   "cell_type": "code",
   "execution_count": null,
   "id": "51d5dfa7",
   "metadata": {},
   "outputs": [],
   "source": [
    "# Reactions\n",
    "sc.pl.dotplot(results['adata'].reactions, var_names=results['adata'].reactions.var.index, groupby=gp, swap_axes=True, standard_scale='var')"
   ]
  },
  {
   "cell_type": "code",
   "execution_count": null,
   "id": "3636046f",
   "metadata": {},
   "outputs": [],
   "source": [
    "# Metabolic Tasks\n",
    "sc.pl.dotplot(results['adata'].metabolic_tasks, var_names=metabolic_tasks, groupby=gp, swap_axes=True, standard_scale='var')"
   ]
  },
  {
   "cell_type": "markdown",
   "id": "c8025b4e",
   "metadata": {},
   "source": [
    "### Heat Map "
   ]
  },
  {
   "cell_type": "code",
   "execution_count": null,
   "id": "0d191aa1",
   "metadata": {},
   "outputs": [],
   "source": [
    "ax = sc.pl.heatmap(results['adata'].metabolic_tasks, var_names=metabolic_tasks, groupby=gp, cmap=\"YlGnBu\", swap_axes=True, dendrogram=True,\n",
    "                   figsize=(16, 4)\n",
    "                  )"
   ]
  },
  {
   "cell_type": "code",
   "execution_count": null,
   "id": "2f2e5e98",
   "metadata": {},
   "outputs": [],
   "source": [
    "agg = sccellfie.expression.aggregation.agg_expression_cells(results['adata'].metabolic_tasks, groupby=gp, agg_func='trimean')"
   ]
  },
  {
   "cell_type": "code",
   "execution_count": null,
   "id": "200146c5",
   "metadata": {},
   "outputs": [],
   "source": [
    "input_df = sccellfie.preprocessing.matrix_utils.min_max_normalization(agg.T, axis=1)"
   ]
  },
  {
   "cell_type": "code",
   "execution_count": null,
   "id": "3ce21c8b",
   "metadata": {},
   "outputs": [],
   "source": [
    "plt.figure(figsize=(16, 4))\n",
    "g = sns.heatmap(input_df.loc[metabolic_tasks,:], cmap='YlGnBu', linewidths=0.5, xticklabels=1, yticklabels=1)\n",
    "\n",
    "cbar = g.collections[0].colorbar\n",
    "cbar.set_label('Scaled metabolic activity', size=14, rotation=270, labelpad=25)  # Change colorbar label size and rotation\n",
    "\n",
    "# Uncomment code below to save figure\n",
    "# plt.savefig('./figures/Heatmap-Seaborn.pdf', dpi=300, bbox_inches='tight')"
   ]
  },
  {
   "cell_type": "code",
   "execution_count": null,
   "id": "58764c83",
   "metadata": {},
   "outputs": [],
   "source": [
    "ax = sc.pl.tracksplot(results['adata'].metabolic_tasks, var_names=metabolic_tasks, groupby=gp, dendrogram=True, figsize=(16, 4))"
   ]
  },
  {
   "cell_type": "markdown",
   "id": "6d99ce02",
   "metadata": {},
   "source": [
    "### Radial Plot"
   ]
  },
  {
   "cell_type": "code",
   "execution_count": null,
   "id": "a87a1abf",
   "metadata": {},
   "outputs": [],
   "source": [
    "df_melted = pd.melt(input_df.reset_index(), id_vars='Task', var_name='cell_type', value_name='scaled_trimean')\n",
    "df_melted = df_melted.rename(columns={'Task': 'metabolic_task'})\n",
    "df_melted.head()"
   ]
  },
  {
   "cell_type": "code",
   "execution_count": null,
   "id": "9d38efa9",
   "metadata": {},
   "outputs": [],
   "source": [
    "ct = df_melted.cell_type.unique()[0:4]\n",
    "ct"
   ]
  },
  {
   "cell_type": "code",
   "execution_count": null,
   "id": "25a34f97",
   "metadata": {},
   "outputs": [],
   "source": [
    "fig = plt.figure(figsize=(16, 16))\n",
    "ax1 = fig.add_subplot(221, projection='polar')\n",
    "ax2 = fig.add_subplot(222, projection='polar')\n",
    "ax3 = fig.add_subplot(223, projection='polar')\n",
    "ax4 = fig.add_subplot(224, projection='polar')\n",
    "\n",
    "for i, (cell, ax) in enumerate(zip(gp, [ax1, ax2, ax3, ax4])):\n",
    "    sccellfie.plotting.create_radial_plot(df_melted, \n",
    "                                          results['task_info'],\n",
    "                                          cell_type=str(ct[i]),\n",
    "                                          ax=ax,\n",
    "                                          show_legend=i == 1,\n",
    "                                          ylim=1.0)"
   ]
  }
 ],
 "metadata": {
  "kernelspec": {
   "display_name": "venv (3.10.12)",
   "language": "python",
   "name": "python3"
  },
  "language_info": {
   "codemirror_mode": {
    "name": "ipython",
    "version": 3
   },
   "file_extension": ".py",
   "mimetype": "text/x-python",
   "name": "python",
   "nbconvert_exporter": "python",
   "pygments_lexer": "ipython3",
   "version": "3.10.12"
  }
 },
 "nbformat": 4,
 "nbformat_minor": 5
}
