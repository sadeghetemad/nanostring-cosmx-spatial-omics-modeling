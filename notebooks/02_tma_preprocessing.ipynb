{
 "cells": [
  {
   "cell_type": "code",
   "execution_count": 1,
   "id": "3174b300",
   "metadata": {},
   "outputs": [],
   "source": [
    "import warnings\n",
    "warnings.filterwarnings(\"ignore\")"
   ]
  },
  {
   "cell_type": "code",
   "execution_count": 2,
   "id": "96c5d068",
   "metadata": {},
   "outputs": [],
   "source": [
    "import pandas as pd\n",
    "import matplotlib.pyplot as plt\n",
    "import scanpy as sc\n",
    "from scipy import io, sparse\n",
    "import numpy as np\n",
    "\n",
    "from pathlib import Path"
   ]
  },
  {
   "cell_type": "code",
   "execution_count": 3,
   "id": "6b4749f7",
   "metadata": {},
   "outputs": [
    {
     "data": {
      "text/plain": [
       "PosixPath('/home/sadegh/projects/nanostring-cosmx-spatial-omics-modeling')"
      ]
     },
     "execution_count": 3,
     "metadata": {},
     "output_type": "execute_result"
    }
   ],
   "source": [
    "base_dir = Path().resolve()\n",
    "parent_dir = base_dir.parent\n",
    "parent_dir"
   ]
  },
  {
   "cell_type": "markdown",
   "id": "3d10fa5b",
   "metadata": {},
   "source": [
    "# Read Converted R data and Make AnnData for All Tissue Micro Array"
   ]
  },
  {
   "cell_type": "code",
   "execution_count": 4,
   "id": "e9906548",
   "metadata": {},
   "outputs": [
    {
     "data": {
      "text/plain": [
       "PosixPath('/home/sadegh/projects/nanostring-cosmx-spatial-omics-modeling/data/converted_files_to_python_readable')"
      ]
     },
     "execution_count": 4,
     "metadata": {},
     "output_type": "execute_result"
    }
   ],
   "source": [
    "data_dir = parent_dir / 'data/converted_files_to_python_readable'\n",
    "data_dir"
   ]
  },
  {
   "cell_type": "code",
   "execution_count": 6,
   "id": "ff7088d6",
   "metadata": {},
   "outputs": [
    {
     "name": "stdout",
     "output_type": "stream",
     "text": [
      "Reading /home/sadegh/projects/nanostring-cosmx-spatial-omics-modeling/data/converted_files_to_python_readable/TMA1_minimal/counts.mtx\n",
      "Reading /home/sadegh/projects/nanostring-cosmx-spatial-omics-modeling/data/converted_files_to_python_readable/TMA2_minimal/counts.mtx\n",
      "Reading /home/sadegh/projects/nanostring-cosmx-spatial-omics-modeling/data/converted_files_to_python_readable/TMA3_minimal/counts.mtx\n",
      "Reading /home/sadegh/projects/nanostring-cosmx-spatial-omics-modeling/data/converted_files_to_python_readable/TMA4_minimal/counts.mtx\n"
     ]
    }
   ],
   "source": [
    "adatas = []\n",
    "keys = []\n",
    "for subdir in sorted(data_dir.iterdir()):\n",
    "    if subdir.is_dir():\n",
    "        mtx_file = subdir / \"counts.mtx\"\n",
    "        if not mtx_file.exists():\n",
    "            print(f\"Skipping {subdir}, counts.mtx not found\")\n",
    "            continue\n",
    "\n",
    "        print(f\"Reading {mtx_file}\")\n",
    "        # Read MTX and convert to CSR (cells x genes)\n",
    "        X = io.mmread(mtx_file).T.tocsr()  \n",
    "\n",
    "        # Read gene names\n",
    "        genes_file = subdir / \"genes.csv\"\n",
    "        var = None\n",
    "        if genes_file.exists():\n",
    "            var = pd.read_csv(genes_file)\n",
    "            var = var.rename(columns={\"x\": \"gene\"})\n",
    "\n",
    "        # Read cell type data\n",
    "        cell_file = subdir / \"cluster_identities.csv\"\n",
    "        cell = None\n",
    "        if cell_file.exists():\n",
    "            cell = pd.read_csv(cell_file, index_col=0, low_memory=False)\n",
    "            cell = cell.rename(columns={\"x\": \"cell_type\"})\n",
    "\n",
    "\n",
    "        # Read cell metadata\n",
    "        obs_file = subdir / \"meta_data.csv\"\n",
    "        obs = None\n",
    "        if obs_file.exists():\n",
    "            obs = pd.read_csv(obs_file, index_col=0, low_memory=False)\n",
    "\n",
    "        obs = pd.merge(obs, cell, left_index=True, right_index=True, how=\"inner\")\n",
    "\n",
    "        # Read spatial coords\n",
    "        spatial = None\n",
    "        cell_spatial_file = subdir / \"spatial_coords.csv\"\n",
    "        if cell_spatial_file.exists():\n",
    "            spatial = pd.read_csv(cell_spatial_file, index_col=0)\n",
    "            spatial.index = spatial[\"cell\"].astype(str) \n",
    "            spatial = spatial.drop(columns=\"cell\")\n",
    "            spatial = spatial.groupby(\"cell\")[[\"x\", \"y\"]].mean()\n",
    "\n",
    "       \n",
    "\n",
    "        # Create AnnData\n",
    "        adata = sc.AnnData(X=X, obs=obs, var=var)\n",
    "        if spatial is not None:\n",
    "            adata.obsm[\"spatial\"] = spatial.loc[adata.obs_names].values\n",
    "\n",
    "        adatas.append(adata)\n",
    "        keys.append(subdir.name)\n",
    "        "
   ]
  },
  {
   "cell_type": "code",
   "execution_count": 7,
   "id": "c8ba61bf",
   "metadata": {},
   "outputs": [
    {
     "data": {
      "text/plain": [
       "[AnnData object with n_obs × n_vars = 636692 × 1011\n",
       "     obs: 'nCount_Nanostring', 'nFeature_Nanostring', 'cell_ID', 'fov', 'Area', 'AspectRatio', 'Width', 'Height', 'Mean.PanCK', 'Max.PanCK', 'Mean.CD68', 'Max.CD68', 'Mean.CD298_B2M', 'Max.CD298_B2M', 'Mean.CD45', 'Max.CD45', 'Mean.DAPI', 'Max.DAPI', 'id', 'TMA', 'Subject_ID', 'Treatment_Status', 'Run_Tissue_name', 'log10totalcounts', 'cell_type'\n",
       "     var: 'gene'\n",
       "     obsm: 'spatial',\n",
       " AnnData object with n_obs × n_vars = 545852 × 1011\n",
       "     obs: 'nCount_Nanostring', 'nFeature_Nanostring', 'cell_ID', 'fov', 'Area', 'AspectRatio', 'Width', 'Height', 'Mean.PanCK', 'Max.PanCK', 'Mean.CD68', 'Max.CD68', 'Mean.CD298_B2M', 'Max.CD298_B2M', 'Mean.CD45', 'Max.CD45', 'Mean.DAPI', 'Max.DAPI', 'id', 'tissue', 'Subject_ID', 'Treatment_Status', 'Run_Tissue_name', 'log10totalcounts', 'cell_type'\n",
       "     var: 'gene'\n",
       "     obsm: 'spatial',\n",
       " AnnData object with n_obs × n_vars = 860543 × 1011\n",
       "     obs: 'nCount_Nanostring', 'nFeature_Nanostring', 'cell_ID', 'fov', 'Area', 'AspectRatio', 'Width', 'Height', 'Mean.PanCK', 'Max.PanCK', 'Mean.CD68', 'Max.CD68', 'Mean.CD298_B2M', 'Max.CD298_B2M', 'Mean.CD45', 'Max.CD45', 'Mean.DAPI', 'Max.DAPI', 'id', 'tissue', 'Subject_ID', 'Treatment_Status', 'Run_Tissue_name', 'log10totalcounts', 'cell_type'\n",
       "     var: 'gene'\n",
       "     obsm: 'spatial',\n",
       " AnnData object with n_obs × n_vars = 830805 × 1011\n",
       "     obs: 'nCount_Nanostring', 'nFeature_Nanostring', 'cell_ID', 'fov', 'Area', 'AspectRatio', 'Width', 'Height', 'Mean.PanCK', 'Max.PanCK', 'Mean.CD68', 'Max.CD68', 'Mean.CD298_B2M', 'Max.CD298_B2M', 'Mean.CD45', 'Max.CD45', 'Mean.DAPI', 'Max.DAPI', 'id', 'tissue', 'Subject_ID', 'Treatment_Status', 'Run_Tissue_name', 'log10totalcounts', 'cell_type'\n",
       "     var: 'gene'\n",
       "     obsm: 'spatial']"
      ]
     },
     "execution_count": 7,
     "metadata": {},
     "output_type": "execute_result"
    }
   ],
   "source": [
    "adatas"
   ]
  },
  {
   "cell_type": "code",
   "execution_count": 8,
   "id": "1df5a030",
   "metadata": {},
   "outputs": [
    {
     "data": {
      "text/plain": [
       "AnnData object with n_obs × n_vars = 2873892 × 1011\n",
       "    obs: 'nCount_Nanostring', 'nFeature_Nanostring', 'cell_ID', 'fov', 'Area', 'AspectRatio', 'Width', 'Height', 'Mean.PanCK', 'Max.PanCK', 'Mean.CD68', 'Max.CD68', 'Mean.CD298_B2M', 'Max.CD298_B2M', 'Mean.CD45', 'Max.CD45', 'Mean.DAPI', 'Max.DAPI', 'id', 'TMA', 'Subject_ID', 'Treatment_Status', 'Run_Tissue_name', 'log10totalcounts', 'cell_type', 'tissue', 'sample'\n",
       "    var: 'gene'\n",
       "    obsm: 'spatial'"
      ]
     },
     "execution_count": 8,
     "metadata": {},
     "output_type": "execute_result"
    }
   ],
   "source": [
    "all_TMA = sc.concat(adatas, keys=keys, label=\"sample\", index_unique=\"_\", join=\"outer\", merge=\"first\")\n",
    "all_TMA"
   ]
  },
  {
   "cell_type": "code",
   "execution_count": 9,
   "id": "037221bb",
   "metadata": {},
   "outputs": [
    {
     "name": "stdout",
     "output_type": "stream",
     "text": [
      "Merged shape: (2873892, 1011)\n"
     ]
    }
   ],
   "source": [
    "print(f\"Merged shape: {all_TMA.shape}\")\n",
    "all_TMA.write(\"merged_TMA.h5ad\", as_dense=\"X\")"
   ]
  },
  {
   "cell_type": "markdown",
   "id": "5f52b7a7",
   "metadata": {},
   "source": [
    "# Read all TMA dataset and Process it"
   ]
  },
  {
   "cell_type": "code",
   "execution_count": 10,
   "id": "7c441863",
   "metadata": {},
   "outputs": [
    {
     "data": {
      "text/plain": [
       "AnnData object with n_obs × n_vars = 2873892 × 1011\n",
       "    obs: 'nCount_Nanostring', 'nFeature_Nanostring', 'cell_ID', 'fov', 'Area', 'AspectRatio', 'Width', 'Height', 'Mean.PanCK', 'Max.PanCK', 'Mean.CD68', 'Max.CD68', 'Mean.CD298_B2M', 'Max.CD298_B2M', 'Mean.CD45', 'Max.CD45', 'Mean.DAPI', 'Max.DAPI', 'id', 'TMA', 'Subject_ID', 'Treatment_Status', 'Run_Tissue_name', 'log10totalcounts', 'cell_type', 'tissue', 'sample'\n",
       "    var: 'gene'\n",
       "    obsm: 'spatial'"
      ]
     },
     "execution_count": 10,
     "metadata": {},
     "output_type": "execute_result"
    }
   ],
   "source": [
    "adata = sc.read(parent_dir / \"data/h5ad/merged_TMA.h5ad\")\n",
    "adata"
   ]
  },
  {
   "cell_type": "code",
   "execution_count": 11,
   "id": "c73a4de1",
   "metadata": {},
   "outputs": [
    {
     "data": {
      "text/html": [
       "<div>\n",
       "<style scoped>\n",
       "    .dataframe tbody tr th:only-of-type {\n",
       "        vertical-align: middle;\n",
       "    }\n",
       "\n",
       "    .dataframe tbody tr th {\n",
       "        vertical-align: top;\n",
       "    }\n",
       "\n",
       "    .dataframe thead th {\n",
       "        text-align: right;\n",
       "    }\n",
       "</style>\n",
       "<table border=\"1\" class=\"dataframe\">\n",
       "  <thead>\n",
       "    <tr style=\"text-align: right;\">\n",
       "      <th>Treatment_Status</th>\n",
       "      <th>Treated</th>\n",
       "      <th>Untreated</th>\n",
       "    </tr>\n",
       "    <tr>\n",
       "      <th>Subject_ID</th>\n",
       "      <th></th>\n",
       "      <th></th>\n",
       "    </tr>\n",
       "  </thead>\n",
       "  <tbody>\n",
       "    <tr>\n",
       "      <th>78410A1</th>\n",
       "      <td>0</td>\n",
       "      <td>167909</td>\n",
       "    </tr>\n",
       "    <tr>\n",
       "      <th>89397</th>\n",
       "      <td>144507</td>\n",
       "      <td>0</td>\n",
       "    </tr>\n",
       "    <tr>\n",
       "      <th>92604</th>\n",
       "      <td>146228</td>\n",
       "      <td>0</td>\n",
       "    </tr>\n",
       "    <tr>\n",
       "      <th>95278A2</th>\n",
       "      <td>0</td>\n",
       "      <td>28264</td>\n",
       "    </tr>\n",
       "    <tr>\n",
       "      <th>114262</th>\n",
       "      <td>23329</td>\n",
       "      <td>0</td>\n",
       "    </tr>\n",
       "    <tr>\n",
       "      <th>118223A</th>\n",
       "      <td>0</td>\n",
       "      <td>126455</td>\n",
       "    </tr>\n",
       "    <tr>\n",
       "      <th>120136</th>\n",
       "      <td>50073</td>\n",
       "      <td>0</td>\n",
       "    </tr>\n",
       "    <tr>\n",
       "      <th>120139</th>\n",
       "      <td>0</td>\n",
       "      <td>116827</td>\n",
       "    </tr>\n",
       "    <tr>\n",
       "      <th>120140</th>\n",
       "      <td>0</td>\n",
       "      <td>114029</td>\n",
       "    </tr>\n",
       "    <tr>\n",
       "      <th>120149</th>\n",
       "      <td>27638</td>\n",
       "      <td>0</td>\n",
       "    </tr>\n",
       "    <tr>\n",
       "      <th>120153</th>\n",
       "      <td>203972</td>\n",
       "      <td>0</td>\n",
       "    </tr>\n",
       "    <tr>\n",
       "      <th>120161</th>\n",
       "      <td>177755</td>\n",
       "      <td>524</td>\n",
       "    </tr>\n",
       "    <tr>\n",
       "      <th>468115</th>\n",
       "      <td>203697</td>\n",
       "      <td>0</td>\n",
       "    </tr>\n",
       "    <tr>\n",
       "      <th>1180097B</th>\n",
       "      <td>0</td>\n",
       "      <td>118741</td>\n",
       "    </tr>\n",
       "    <tr>\n",
       "      <th>1182412B</th>\n",
       "      <td>82777</td>\n",
       "      <td>0</td>\n",
       "    </tr>\n",
       "    <tr>\n",
       "      <th>1182623B</th>\n",
       "      <td>0</td>\n",
       "      <td>154942</td>\n",
       "    </tr>\n",
       "    <tr>\n",
       "      <th>1185092B</th>\n",
       "      <td>63405</td>\n",
       "      <td>0</td>\n",
       "    </tr>\n",
       "    <tr>\n",
       "      <th>1192325B</th>\n",
       "      <td>0</td>\n",
       "      <td>136957</td>\n",
       "    </tr>\n",
       "    <tr>\n",
       "      <th>1204245B</th>\n",
       "      <td>0</td>\n",
       "      <td>78958</td>\n",
       "    </tr>\n",
       "    <tr>\n",
       "      <th>1207356B</th>\n",
       "      <td>0</td>\n",
       "      <td>200398</td>\n",
       "    </tr>\n",
       "    <tr>\n",
       "      <th>1209622B</th>\n",
       "      <td>0</td>\n",
       "      <td>193858</td>\n",
       "    </tr>\n",
       "    <tr>\n",
       "      <th>1216278B</th>\n",
       "      <td>0</td>\n",
       "      <td>155719</td>\n",
       "    </tr>\n",
       "    <tr>\n",
       "      <th>1228762B</th>\n",
       "      <td>0</td>\n",
       "      <td>56625</td>\n",
       "    </tr>\n",
       "    <tr>\n",
       "      <th>1258057B</th>\n",
       "      <td>0</td>\n",
       "      <td>100305</td>\n",
       "    </tr>\n",
       "  </tbody>\n",
       "</table>\n",
       "</div>"
      ],
      "text/plain": [
       "Treatment_Status  Treated  Untreated\n",
       "Subject_ID                          \n",
       "78410A1                 0     167909\n",
       "89397              144507          0\n",
       "92604              146228          0\n",
       "95278A2                 0      28264\n",
       "114262              23329          0\n",
       "118223A                 0     126455\n",
       "120136              50073          0\n",
       "120139                  0     116827\n",
       "120140                  0     114029\n",
       "120149              27638          0\n",
       "120153             203972          0\n",
       "120161             177755        524\n",
       "468115             203697          0\n",
       "1180097B                0     118741\n",
       "1182412B            82777          0\n",
       "1182623B                0     154942\n",
       "1185092B            63405          0\n",
       "1192325B                0     136957\n",
       "1204245B                0      78958\n",
       "1207356B                0     200398\n",
       "1209622B                0     193858\n",
       "1216278B                0     155719\n",
       "1228762B                0      56625\n",
       "1258057B                0     100305"
      ]
     },
     "execution_count": 11,
     "metadata": {},
     "output_type": "execute_result"
    }
   ],
   "source": [
    "# Distribution of Cell per Status\n",
    "counts = adata.obs.groupby([\"Subject_ID\", \"Treatment_Status\"]).size().unstack(fill_value=0)\n",
    "counts"
   ]
  },
  {
   "cell_type": "code",
   "execution_count": null,
   "id": "87f8ae20",
   "metadata": {},
   "outputs": [],
   "source": [
    "# adata.var.to_csv('gene_name.csv', header=False, index=False)"
   ]
  },
  {
   "cell_type": "code",
   "execution_count": null,
   "id": "62f76cf7",
   "metadata": {},
   "outputs": [],
   "source": [
    "adata.X"
   ]
  },
  {
   "cell_type": "code",
   "execution_count": 12,
   "id": "ba4a1016",
   "metadata": {},
   "outputs": [
    {
     "name": "stdout",
     "output_type": "stream",
     "text": [
      "🔢 Total elements     : 2,905,504,812\n",
      "✅ Non-zero elements : 273,389,699\n",
      "⭕️ Zero elements     : 2,632,115,113\n",
      "📉 Sparsity          : 90.59% zeros\n"
     ]
    }
   ],
   "source": [
    "total_elements = adata.shape[0] * adata.shape[1] \n",
    "# nonzero = adata.X.nnz                    \n",
    "nonzero = np.count_nonzero(adata.X)\n",
    "zero = total_elements - nonzero                  \n",
    "sparsity = zero / total_elements * 100           \n",
    "\n",
    "print(f\"🔢 Total elements     : {total_elements:,}\")\n",
    "print(f\"✅ Non-zero elements : {nonzero:,}\")\n",
    "print(f\"⭕️ Zero elements     : {zero:,}\")\n",
    "print(f\"📉 Sparsity          : {sparsity:.2f}% zeros\")\n"
   ]
  },
  {
   "cell_type": "markdown",
   "id": "43625b3c",
   "metadata": {},
   "source": [
    "### QC on anndata"
   ]
  },
  {
   "cell_type": "code",
   "execution_count": 13,
   "id": "5d0e881d",
   "metadata": {},
   "outputs": [],
   "source": [
    "sc.pp.calculate_qc_metrics(adata, inplace=True)"
   ]
  },
  {
   "cell_type": "markdown",
   "id": "b62a7335",
   "metadata": {},
   "source": [
    "### Filtering on cells and genes"
   ]
  },
  {
   "cell_type": "code",
   "execution_count": null,
   "id": "f832ae0f",
   "metadata": {},
   "outputs": [],
   "source": [
    "sc.pl.violin(adata, ['n_genes_by_counts'], jitter=0.4)"
   ]
  },
  {
   "cell_type": "code",
   "execution_count": 14,
   "id": "9586ab9f",
   "metadata": {},
   "outputs": [],
   "source": [
    "if sparse.issparse(adata.X):\n",
    "    genes_per_cell = np.array((adata.X > 0).sum(axis=1)).flatten()\n",
    "else:\n",
    "    genes_per_cell = (adata.X > 0).sum(axis=1)"
   ]
  },
  {
   "cell_type": "code",
   "execution_count": 15,
   "id": "0b62e5e9",
   "metadata": {},
   "outputs": [
    {
     "name": "stdout",
     "output_type": "stream",
     "text": [
      "Mean number of non-zero genes per cell: 95.12873100311354\n",
      "Median number of non-zero genes per cell: 78.0\n"
     ]
    }
   ],
   "source": [
    "median_nonzero = np.median(genes_per_cell)\n",
    "mean_nonzero = np.mean(genes_per_cell)\n",
    "print(\"Mean number of non-zero genes per cell:\", mean_nonzero)\n",
    "print(\"Median number of non-zero genes per cell:\", median_nonzero)"
   ]
  },
  {
   "cell_type": "code",
   "execution_count": 16,
   "id": "d14e10bb",
   "metadata": {},
   "outputs": [
    {
     "data": {
      "image/png": "[encoded data removed]",
      "text/plain": [
       "<Figure size 600x400 with 1 Axes>"
      ]
     },
     "metadata": {},
     "output_type": "display_data"
    }
   ],
   "source": [
    "plt.figure(figsize=(6,4))\n",
    "plt.hist(genes_per_cell, bins=50, color=\"steelblue\", edgecolor=\"black\")\n",
    "plt.xlabel(\"Number of expressed genes (non-zero per cell)\")\n",
    "plt.ylabel(\"Number of cells\")\n",
    "plt.title(\"Distribution of expressed genes per cell\")\n",
    "plt.show()"
   ]
  },
  {
   "cell_type": "code",
   "execution_count": 17,
   "id": "c02df717",
   "metadata": {},
   "outputs": [
    {
     "name": "stdout",
     "output_type": "stream",
     "text": [
      "Before filtering: (2873892, 1011)\n",
      "After filtering: (242061, 1011)\n"
     ]
    }
   ],
   "source": [
    "print(\"Before filtering:\", adata.shape)\n",
    "sc.pp.filter_cells(adata, min_genes=200)\n",
    "sc.pp.filter_genes(adata, min_cells=3)\n",
    "print(\"After filtering:\", adata.shape)"
   ]
  },
  {
   "cell_type": "markdown",
   "id": "f1ce5392",
   "metadata": {},
   "source": [
    "### Normalization and Logarithmic Data"
   ]
  },
  {
   "cell_type": "code",
   "execution_count": 18,
   "id": "10a69fad",
   "metadata": {},
   "outputs": [],
   "source": [
    "sc.pp.normalize_total(adata, target_sum=1e4)\n",
    "sc.pp.log1p(adata)"
   ]
  },
  {
   "cell_type": "markdown",
   "id": "7fe87455",
   "metadata": {},
   "source": [
    "### Finding Highly Variable Genes"
   ]
  },
  {
   "cell_type": "code",
   "execution_count": null,
   "id": "eeb24ad8",
   "metadata": {},
   "outputs": [],
   "source": [
    "# sc.pp.highly_variable_genes(adata, flavor=\"seurat\", n_top_genes=2000)\n",
    "# adata = adata[:, adata.var[\"highly_variable\"]]\n",
    "# adata"
   ]
  },
  {
   "cell_type": "markdown",
   "id": "b537b8f9",
   "metadata": {},
   "source": [
    "### Standardization data"
   ]
  },
  {
   "cell_type": "code",
   "execution_count": 19,
   "id": "5ea9d5d0",
   "metadata": {},
   "outputs": [],
   "source": [
    "sc.pp.scale(adata, max_value=10)"
   ]
  },
  {
   "cell_type": "markdown",
   "id": "1fa974bc",
   "metadata": {},
   "source": [
    "### Apply PCA - Dimensional Reduction"
   ]
  },
  {
   "cell_type": "code",
   "execution_count": 20,
   "id": "fb28bba1",
   "metadata": {},
   "outputs": [],
   "source": [
    "sc.tl.pca(adata, svd_solver=\"arpack\")"
   ]
  },
  {
   "cell_type": "markdown",
   "id": "975f7083",
   "metadata": {},
   "source": [
    "### Neighborhood graph "
   ]
  },
  {
   "cell_type": "code",
   "execution_count": 21,
   "id": "1da290bb",
   "metadata": {},
   "outputs": [],
   "source": [
    "sc.pp.neighbors(adata, n_neighbors=10, n_pcs=40)"
   ]
  },
  {
   "cell_type": "markdown",
   "id": "97fdf10b",
   "metadata": {},
   "source": [
    "### Apply UMAP - Dimensional Reduction"
   ]
  },
  {
   "cell_type": "code",
   "execution_count": 22,
   "id": "68e4a2d1",
   "metadata": {},
   "outputs": [],
   "source": [
    "sc.tl.umap(adata)"
   ]
  },
  {
   "cell_type": "markdown",
   "id": "77071cfc",
   "metadata": {},
   "source": [
    "### Clustering by Leiden method"
   ]
  },
  {
   "cell_type": "code",
   "execution_count": 23,
   "id": "44ba4a8f",
   "metadata": {},
   "outputs": [],
   "source": [
    "sc.tl.leiden(adata, resolution=0.5)"
   ]
  },
  {
   "cell_type": "code",
   "execution_count": null,
   "id": "67dee2ed",
   "metadata": {},
   "outputs": [],
   "source": [
    "adata"
   ]
  },
  {
   "cell_type": "markdown",
   "id": "d5237360",
   "metadata": {},
   "source": [
    "### Save Processed Dataset"
   ]
  },
  {
   "cell_type": "code",
   "execution_count": 24,
   "id": "33805c90",
   "metadata": {},
   "outputs": [],
   "source": [
    "adata.write(parent_dir / \"data/h5ad/merged_TMA_processed_compatible_n_gene_200.h5ad\", as_dense=\"X\")"
   ]
  },
  {
   "cell_type": "markdown",
   "id": "343ae02a",
   "metadata": {},
   "source": [
    "# Read Processed TMA dataset, Store as CSV and some Visualization"
   ]
  },
  {
   "cell_type": "code",
   "execution_count": null,
   "id": "475cff8d",
   "metadata": {},
   "outputs": [],
   "source": [
    "adata = sc.read(parent_dir / 'merged_TMA_processed_compatible.h5ad')"
   ]
  },
  {
   "cell_type": "code",
   "execution_count": null,
   "id": "bdd8bf33",
   "metadata": {},
   "outputs": [],
   "source": [
    "adata"
   ]
  },
  {
   "cell_type": "code",
   "execution_count": null,
   "id": "ebdd8de7",
   "metadata": {},
   "outputs": [],
   "source": [
    "counts_df = pd.DataFrame(\n",
    "        adata.X,\n",
    "        index=adata.obs_names,\n",
    "        columns=adata.var.gene\n",
    "    )\n",
    "counts_df.T"
   ]
  },
  {
   "cell_type": "code",
   "execution_count": null,
   "id": "69ae3a69",
   "metadata": {},
   "outputs": [],
   "source": [
    "# counts_df.to_csv('merged_TMA_preprocessed.csv')"
   ]
  },
  {
   "cell_type": "markdown",
   "id": "d6b9251c",
   "metadata": {},
   "source": [
    "### PCA and UMAP"
   ]
  },
  {
   "cell_type": "code",
   "execution_count": null,
   "id": "2c1be5ba",
   "metadata": {},
   "outputs": [],
   "source": [
    "sc.pl.pca(\n",
    "    adata,\n",
    "    color=[\"leiden\"],\n",
    "    legend_loc=\"on data\",\n",
    "    frameon=False,\n",
    "    size=2.0,\n",
    "    wspace=0.3,\n",
    "    save=\"_umap_leiden.png\"  \n",
    ")"
   ]
  },
  {
   "cell_type": "code",
   "execution_count": null,
   "id": "00547ba3",
   "metadata": {},
   "outputs": [],
   "source": [
    "sc.pl.umap(\n",
    "    adata,\n",
    "    color=[\"leiden\"],\n",
    "    legend_loc=\"on data\",\n",
    "    frameon=False,\n",
    "    size=2.0,\n",
    "    wspace=0.3,\n",
    "    save=\"_umap_leiden.png\"  \n",
    ")"
   ]
  },
  {
   "cell_type": "markdown",
   "id": "5f7602ad",
   "metadata": {},
   "source": [
    "### Plot Spatial coords based on leiden cluster"
   ]
  },
  {
   "cell_type": "code",
   "execution_count": null,
   "id": "fcbf9ef2",
   "metadata": {},
   "outputs": [],
   "source": [
    "# sc.pl.spatial(\n",
    "#     adata,\n",
    "#     color=\"leiden\",\n",
    "#     spot_size=100,     \n",
    "#     frameon=False,\n",
    "#     alpha_img=0.0,\n",
    "#     save=\"_spatial_leiden.png\" \n",
    "# )"
   ]
  },
  {
   "cell_type": "markdown",
   "id": "b7af486d",
   "metadata": {},
   "source": [
    "### QC and Cell Compostion"
   ]
  },
  {
   "cell_type": "code",
   "execution_count": null,
   "id": "3fad2653",
   "metadata": {},
   "outputs": [],
   "source": [
    "sc.pl.violin(\n",
    "    adata,\n",
    "    [\"n_genes_by_counts\", \"total_counts\", \"pct_counts_in_top_50_genes\"],\n",
    "    groupby=\"sample\",\n",
    "    jitter=0.4,\n",
    "    multi_panel=True\n",
    ")"
   ]
  },
  {
   "cell_type": "code",
   "execution_count": null,
   "id": "63a61133",
   "metadata": {},
   "outputs": [],
   "source": [
    "adata.obs[\"leiden\"].value_counts().plot(kind=\"bar\", figsize=(6,3))"
   ]
  },
  {
   "cell_type": "markdown",
   "id": "3535d139",
   "metadata": {},
   "source": [
    "### UMAP Visualization"
   ]
  },
  {
   "cell_type": "code",
   "execution_count": null,
   "id": "e78cbed1",
   "metadata": {},
   "outputs": [],
   "source": [
    "sc.pl.umap(adata, color=\"leiden\", legend_loc=\"on data\", frameon=False)"
   ]
  },
  {
   "cell_type": "code",
   "execution_count": null,
   "id": "fdcdc75e",
   "metadata": {},
   "outputs": [],
   "source": [
    "sc.pl.umap(adata, color=[\"sample\", \"Treatment_Status\"], frameon=False)"
   ]
  },
  {
   "cell_type": "markdown",
   "id": "3146432f",
   "metadata": {},
   "source": [
    "### Spatial Visualization"
   ]
  },
  {
   "cell_type": "code",
   "execution_count": null,
   "id": "095fb2bd",
   "metadata": {},
   "outputs": [],
   "source": [
    "sc.pl.embedding(\n",
    "    adata,\n",
    "    basis=\"spatial\",\n",
    "    color=\"leiden\",\n",
    "    frameon=False,\n",
    "    size=3\n",
    ")\n"
   ]
  },
  {
   "cell_type": "markdown",
   "id": "8d7320f3",
   "metadata": {},
   "source": [
    "#### per Tissue Sample"
   ]
  },
  {
   "cell_type": "code",
   "execution_count": null,
   "id": "e9dd229c",
   "metadata": {},
   "outputs": [],
   "source": [
    "# Per Sample\n",
    "for s in adata.obs[\"sample\"].unique():\n",
    "    sc.pl.embedding(\n",
    "        adata[adata.obs[\"sample\"] == s],\n",
    "        basis=\"spatial\",\n",
    "        color=\"leiden\",\n",
    "        frameon=False,\n",
    "        size=3,\n",
    "        title=f\"Spatial - {s}\"\n",
    "    )"
   ]
  },
  {
   "cell_type": "markdown",
   "id": "cb3acef2",
   "metadata": {},
   "source": [
    "### PCA Visualization"
   ]
  },
  {
   "cell_type": "code",
   "execution_count": null,
   "id": "8e6f6c73",
   "metadata": {},
   "outputs": [],
   "source": [
    "sc.pl.pca(adata, color=\"leiden\")"
   ]
  },
  {
   "cell_type": "code",
   "execution_count": null,
   "id": "28e1cf6f",
   "metadata": {},
   "outputs": [],
   "source": [
    "sc.pl.pca_variance_ratio(adata, log=True)"
   ]
  },
  {
   "cell_type": "markdown",
   "id": "003dede9",
   "metadata": {},
   "source": [
    "### Cluster Relationship "
   ]
  },
  {
   "cell_type": "code",
   "execution_count": null,
   "id": "76900b7f",
   "metadata": {},
   "outputs": [],
   "source": [
    "sc.tl.dendrogram(adata, groupby=\"leiden\")\n",
    "sc.pl.dendrogram(adata, groupby=\"leiden\")"
   ]
  },
  {
   "cell_type": "code",
   "execution_count": null,
   "id": "04bad17b",
   "metadata": {},
   "outputs": [],
   "source": [
    "sc.tl.paga(adata, groups=\"leiden\")\n",
    "sc.pl.paga(adata, threshold=0.03, show=True)"
   ]
  },
  {
   "cell_type": "code",
   "execution_count": null,
   "id": "6c7bd3a0",
   "metadata": {},
   "outputs": [],
   "source": []
  }
 ],
 "metadata": {
  "kernelspec": {
   "display_name": "nanostring",
   "language": "python",
   "name": "nanostring"
  },
  "language_info": {
   "codemirror_mode": {
    "name": "ipython",
    "version": 3
   },
   "file_extension": ".py",
   "mimetype": "text/x-python",
   "name": "python",
   "nbconvert_exporter": "python",
   "pygments_lexer": "ipython3",
   "version": "3.12.3"
  }
 },
 "nbformat": 4,
 "nbformat_minor": 5
}
