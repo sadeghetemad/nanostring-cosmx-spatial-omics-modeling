{
 "cells": [
  {
   "cell_type": "code",
   "execution_count": 2,
   "id": "96c5d068",
   "metadata": {},
   "outputs": [],
   "source": [
    "import pandas as pd\n",
    "import matplotlib.pyplot as plt\n",
    "import scanpy as sc\n",
    "from scipy import io, sparse\n",
    "\n",
    "from pathlib import Path"
   ]
  },
  {
   "cell_type": "code",
   "execution_count": 5,
   "id": "6b4749f7",
   "metadata": {},
   "outputs": [
    {
     "data": {
      "text/plain": [
       "PosixPath('/mnt/ldata/Sadegh/my_codes/CosMX_Nanostring_Analysis')"
      ]
     },
     "execution_count": 5,
     "metadata": {},
     "output_type": "execute_result"
    }
   ],
   "source": [
    "base_dir = Path().resolve()\n",
    "base_dir"
   ]
  },
  {
   "cell_type": "markdown",
   "id": "3d10fa5b",
   "metadata": {},
   "source": [
    "# Read Converted R data and Make AnnData for All Tissue Micro Array"
   ]
  },
  {
   "cell_type": "code",
   "execution_count": null,
   "id": "e9906548",
   "metadata": {},
   "outputs": [],
   "source": [
    "data_dir = base_dir / 'converted_files_to_python_readable'\n",
    "data_dir"
   ]
  },
  {
   "cell_type": "code",
   "execution_count": null,
   "id": "ff7088d6",
   "metadata": {},
   "outputs": [],
   "source": [
    "adatas = []\n",
    "keys = []\n",
    "for subdir in sorted(data_dir.iterdir()):\n",
    "    if subdir.is_dir():\n",
    "        mtx_file = subdir / \"counts.mtx\"\n",
    "        if not mtx_file.exists():\n",
    "            print(f\"Skipping {subdir}, counts.mtx not found\")\n",
    "            continue\n",
    "\n",
    "        print(f\"Reading {mtx_file}\")\n",
    "        # Read MTX and convert to CSR (cells x genes)\n",
    "        X = io.mmread(mtx_file).T.tocsr()  \n",
    "\n",
    "        # Read gene names\n",
    "        genes_file = subdir / \"genes.csv\"\n",
    "        var = None\n",
    "        if genes_file.exists():\n",
    "            var = pd.read_csv(genes_file)\n",
    "            var = var.rename(columns={\"x\": \"gene\"})\n",
    "\n",
    "        # Read cell metadata\n",
    "        obs_file = subdir / \"meta_data.csv\"\n",
    "        obs = None\n",
    "        if obs_file.exists():\n",
    "            obs = pd.read_csv(obs_file, index_col=0, low_memory=False)\n",
    "\n",
    "        # Read spatial coords\n",
    "        spatial = None\n",
    "        cell_spatial_file = subdir / \"spatial_coords.csv\"\n",
    "        if cell_spatial_file.exists():\n",
    "            spatial = pd.read_csv(cell_spatial_file, index_col=0)\n",
    "            spatial.index = spatial[\"cell\"].astype(str) \n",
    "            spatial = spatial.drop(columns=\"cell\")\n",
    "            spatial = spatial.groupby(\"cell\")[[\"x\", \"y\"]].mean()\n",
    "\n",
    "        # Create AnnData\n",
    "        adata = sc.AnnData(X=X, obs=obs, var=var)\n",
    "        if spatial is not None:\n",
    "            adata.obsm[\"spatial\"] = spatial.loc[adata.obs_names].values\n",
    "\n",
    "        adatas.append(adata)\n",
    "        keys.append(subdir.name)\n",
    "        "
   ]
  },
  {
   "cell_type": "code",
   "execution_count": null,
   "id": "c8ba61bf",
   "metadata": {},
   "outputs": [],
   "source": [
    "adatas"
   ]
  },
  {
   "cell_type": "code",
   "execution_count": null,
   "id": "1df5a030",
   "metadata": {},
   "outputs": [],
   "source": [
    "all_TMA = sc.concat(adatas, keys=keys, label=\"sample\", index_unique=\"_\", join=\"outer\", merge=\"first\")\n",
    "all_TMA"
   ]
  },
  {
   "cell_type": "code",
   "execution_count": null,
   "id": "037221bb",
   "metadata": {},
   "outputs": [],
   "source": [
    "print(f\"Merged shape: {all_TMA.shape}\")\n",
    "all_TMA.write(\"merged_TMA.h5ad\")"
   ]
  },
  {
   "cell_type": "markdown",
   "id": "5f52b7a7",
   "metadata": {},
   "source": [
    "# Read all TMA dataset and Process it"
   ]
  },
  {
   "cell_type": "code",
   "execution_count": 4,
   "id": "2141e38b",
   "metadata": {},
   "outputs": [
    {
     "data": {
      "text/plain": [
       "'1.11.4'"
      ]
     },
     "execution_count": 4,
     "metadata": {},
     "output_type": "execute_result"
    }
   ],
   "source": [
    "sc.__version__"
   ]
  },
  {
   "cell_type": "code",
   "execution_count": 6,
   "id": "7c441863",
   "metadata": {},
   "outputs": [
    {
     "data": {
      "text/plain": [
       "AnnData object with n_obs × n_vars = 2873892 × 1011\n",
       "    obs: 'nCount_Nanostring', 'nFeature_Nanostring', 'cell_ID', 'fov', 'Area', 'AspectRatio', 'Width', 'Height', 'Mean.PanCK', 'Max.PanCK', 'Mean.CD68', 'Max.CD68', 'Mean.CD298_B2M', 'Max.CD298_B2M', 'Mean.CD45', 'Max.CD45', 'Mean.DAPI', 'Max.DAPI', 'id', 'TMA', 'Subject_ID', 'Treatment_Status', 'Run_Tissue_name', 'log10totalcounts', 'tissue', 'sample'\n",
       "    var: 'gene'\n",
       "    obsm: 'spatial'"
      ]
     },
     "execution_count": 6,
     "metadata": {},
     "output_type": "execute_result"
    }
   ],
   "source": [
    "adata = sc.read(\"merged_TMA.h5ad\")\n",
    "adata"
   ]
  },
  {
   "cell_type": "code",
   "execution_count": 10,
   "id": "87f8ae20",
   "metadata": {},
   "outputs": [],
   "source": [
    "adata.var.to_csv('gene_name.csv', header=False, index=False)"
   ]
  },
  {
   "cell_type": "code",
   "execution_count": null,
   "id": "ba4a1016",
   "metadata": {},
   "outputs": [],
   "source": [
    "total_elements = adata.shape[0] * adata.shape[1] \n",
    "nonzero = adata.X.nnz                            \n",
    "zero = total_elements - nonzero                  \n",
    "sparsity = zero / total_elements * 100           \n",
    "\n",
    "print(f\"🔢 Total elements     : {total_elements:,}\")\n",
    "print(f\"✅ Non-zero elements : {nonzero:,}\")\n",
    "print(f\"⭕️ Zero elements     : {zero:,}\")\n",
    "print(f\"📉 Sparsity          : {sparsity:.2f}% zeros\")\n"
   ]
  },
  {
   "cell_type": "markdown",
   "id": "43625b3c",
   "metadata": {},
   "source": [
    "### QC on anndata"
   ]
  },
  {
   "cell_type": "code",
   "execution_count": null,
   "id": "5d0e881d",
   "metadata": {},
   "outputs": [],
   "source": [
    "sc.pp.calculate_qc_metrics(adata, inplace=True)"
   ]
  },
  {
   "cell_type": "markdown",
   "id": "b62a7335",
   "metadata": {},
   "source": [
    "### Filtering on cells and genes"
   ]
  },
  {
   "cell_type": "code",
   "execution_count": null,
   "id": "f832ae0f",
   "metadata": {},
   "outputs": [],
   "source": [
    "sc.pl.violin(adata, ['n_genes_by_counts'], jitter=0.4)\n"
   ]
  },
  {
   "cell_type": "code",
   "execution_count": null,
   "id": "c02df717",
   "metadata": {},
   "outputs": [],
   "source": [
    "print(\"Before filtering:\", adata.shape)\n",
    "sc.pp.filter_cells(adata, min_genes=200)\n",
    "sc.pp.filter_genes(adata, min_cells=3)\n",
    "print(\"After filtering:\", adata.shape)"
   ]
  },
  {
   "cell_type": "markdown",
   "id": "f1ce5392",
   "metadata": {},
   "source": [
    "### Normalization and Logarithmic Data"
   ]
  },
  {
   "cell_type": "code",
   "execution_count": null,
   "id": "10a69fad",
   "metadata": {},
   "outputs": [],
   "source": [
    "sc.pp.normalize_total(adata, target_sum=1e4)\n",
    "sc.pp.log1p(adata)"
   ]
  },
  {
   "cell_type": "markdown",
   "id": "7fe87455",
   "metadata": {},
   "source": [
    "### Finding Highly Variable Genes"
   ]
  },
  {
   "cell_type": "code",
   "execution_count": null,
   "id": "eeb24ad8",
   "metadata": {},
   "outputs": [],
   "source": [
    "# sc.pp.highly_variable_genes(adata, flavor=\"seurat\", n_top_genes=2000)\n",
    "# adata = adata[:, adata.var[\"highly_variable\"]]\n",
    "# adata"
   ]
  },
  {
   "cell_type": "markdown",
   "id": "b537b8f9",
   "metadata": {},
   "source": [
    "### Standardization data"
   ]
  },
  {
   "cell_type": "code",
   "execution_count": null,
   "id": "5ea9d5d0",
   "metadata": {},
   "outputs": [],
   "source": [
    "sc.pp.scale(adata, max_value=10)"
   ]
  },
  {
   "cell_type": "markdown",
   "id": "1fa974bc",
   "metadata": {},
   "source": [
    "### Apply PCA - Dimensional Reduction"
   ]
  },
  {
   "cell_type": "code",
   "execution_count": null,
   "id": "fb28bba1",
   "metadata": {},
   "outputs": [],
   "source": [
    "sc.tl.pca(adata, svd_solver=\"arpack\")"
   ]
  },
  {
   "cell_type": "markdown",
   "id": "975f7083",
   "metadata": {},
   "source": [
    "### Neighborhood graph "
   ]
  },
  {
   "cell_type": "code",
   "execution_count": null,
   "id": "1da290bb",
   "metadata": {},
   "outputs": [],
   "source": [
    "sc.pp.neighbors(adata, n_neighbors=10, n_pcs=40)"
   ]
  },
  {
   "cell_type": "markdown",
   "id": "97fdf10b",
   "metadata": {},
   "source": [
    "### Apply UMAP - Dimensional Reduction"
   ]
  },
  {
   "cell_type": "code",
   "execution_count": null,
   "id": "68e4a2d1",
   "metadata": {},
   "outputs": [],
   "source": [
    "sc.tl.umap(adata)"
   ]
  },
  {
   "cell_type": "markdown",
   "id": "77071cfc",
   "metadata": {},
   "source": [
    "### Clustering by Leiden method"
   ]
  },
  {
   "cell_type": "code",
   "execution_count": null,
   "id": "44ba4a8f",
   "metadata": {},
   "outputs": [],
   "source": [
    "sc.tl.leiden(adata, resolution=0.5)"
   ]
  },
  {
   "cell_type": "code",
   "execution_count": null,
   "id": "67dee2ed",
   "metadata": {},
   "outputs": [],
   "source": [
    "adata"
   ]
  },
  {
   "cell_type": "code",
   "execution_count": null,
   "id": "fc0450e9",
   "metadata": {},
   "outputs": [],
   "source": [
    "# adata.obsm['X_umap']"
   ]
  },
  {
   "cell_type": "markdown",
   "id": "d5237360",
   "metadata": {},
   "source": [
    "### Save Processed Dataset"
   ]
  },
  {
   "cell_type": "code",
   "execution_count": null,
   "id": "33805c90",
   "metadata": {},
   "outputs": [],
   "source": [
    "# adata.write(\"merged_TMA_processed.h5ad\")"
   ]
  },
  {
   "cell_type": "markdown",
   "id": "343ae02a",
   "metadata": {},
   "source": [
    "# Read Processed TMA dataset, Store as CSV and some Visualization"
   ]
  },
  {
   "cell_type": "code",
   "execution_count": null,
   "id": "475cff8d",
   "metadata": {},
   "outputs": [],
   "source": [
    "adata = sc.read('merged_TMA_processed.h5ad')"
   ]
  },
  {
   "cell_type": "code",
   "execution_count": null,
   "id": "ebdd8de7",
   "metadata": {},
   "outputs": [],
   "source": [
    "counts_df = pd.DataFrame(\n",
    "        adata.X,\n",
    "        index=adata.obs_names,\n",
    "        columns=adata.var.gene\n",
    "    )\n",
    "counts_df.T"
   ]
  },
  {
   "cell_type": "code",
   "execution_count": null,
   "id": "dd1f9589",
   "metadata": {},
   "outputs": [],
   "source": [
    "counts_df"
   ]
  },
  {
   "cell_type": "code",
   "execution_count": null,
   "id": "69ae3a69",
   "metadata": {},
   "outputs": [],
   "source": [
    "# counts_df.to_csv('merged_TMA_preprocessed.csv')"
   ]
  },
  {
   "cell_type": "markdown",
   "id": "d6b9251c",
   "metadata": {},
   "source": [
    "### PCA and UMAP"
   ]
  },
  {
   "cell_type": "code",
   "execution_count": null,
   "id": "2c1be5ba",
   "metadata": {},
   "outputs": [],
   "source": [
    "sc.pl.pca(\n",
    "    adata,\n",
    "    color=[\"leiden\"],\n",
    "    legend_loc=\"on data\",\n",
    "    frameon=False,\n",
    "    size=2.0,\n",
    "    wspace=0.3,\n",
    "    save=\"_umap_leiden.png\"  \n",
    ")"
   ]
  },
  {
   "cell_type": "code",
   "execution_count": null,
   "id": "00547ba3",
   "metadata": {},
   "outputs": [],
   "source": [
    "sc.pl.umap(\n",
    "    adata,\n",
    "    color=[\"leiden\"],\n",
    "    legend_loc=\"on data\",\n",
    "    frameon=False,\n",
    "    size=2.0,\n",
    "    wspace=0.3,\n",
    "    save=\"_umap_leiden.png\"  \n",
    ")"
   ]
  },
  {
   "cell_type": "markdown",
   "id": "5f7602ad",
   "metadata": {},
   "source": [
    "### Plot Spatial coords based on leiden cluster"
   ]
  },
  {
   "cell_type": "code",
   "execution_count": null,
   "id": "fcbf9ef2",
   "metadata": {},
   "outputs": [],
   "source": [
    "# sc.pl.spatial(\n",
    "#     adata,\n",
    "#     color=\"leiden\",\n",
    "#     spot_size=100,     \n",
    "#     frameon=False,\n",
    "#     alpha_img=0.0,\n",
    "#     save=\"_spatial_leiden.png\" \n",
    "# )"
   ]
  },
  {
   "cell_type": "markdown",
   "id": "b7af486d",
   "metadata": {},
   "source": [
    "### QC and Cell Compostion"
   ]
  },
  {
   "cell_type": "code",
   "execution_count": null,
   "id": "3fad2653",
   "metadata": {},
   "outputs": [],
   "source": [
    "sc.pl.violin(\n",
    "    adata,\n",
    "    [\"n_genes_by_counts\", \"total_counts\", \"pct_counts_in_top_50_genes\"],\n",
    "    groupby=\"sample\",\n",
    "    jitter=0.4,\n",
    "    multi_panel=True\n",
    ")"
   ]
  },
  {
   "cell_type": "code",
   "execution_count": null,
   "id": "63a61133",
   "metadata": {},
   "outputs": [],
   "source": [
    "adata.obs[\"leiden\"].value_counts().plot(kind=\"bar\", figsize=(6,3))"
   ]
  },
  {
   "cell_type": "markdown",
   "id": "3535d139",
   "metadata": {},
   "source": [
    "### UMAP Visualization"
   ]
  },
  {
   "cell_type": "code",
   "execution_count": null,
   "id": "e78cbed1",
   "metadata": {},
   "outputs": [],
   "source": [
    "sc.pl.umap(adata, color=\"leiden\", legend_loc=\"on data\", frameon=False)"
   ]
  },
  {
   "cell_type": "code",
   "execution_count": null,
   "id": "fdcdc75e",
   "metadata": {},
   "outputs": [],
   "source": [
    "sc.pl.umap(adata, color=[\"sample\", \"Treatment_Status\"], frameon=False)"
   ]
  },
  {
   "cell_type": "markdown",
   "id": "3146432f",
   "metadata": {},
   "source": [
    "### Spatial Visualization"
   ]
  },
  {
   "cell_type": "code",
   "execution_count": null,
   "id": "095fb2bd",
   "metadata": {},
   "outputs": [],
   "source": [
    "sc.pl.embedding(\n",
    "    adata,\n",
    "    basis=\"spatial\",\n",
    "    color=\"leiden\",\n",
    "    frameon=False,\n",
    "    size=3\n",
    ")\n"
   ]
  },
  {
   "cell_type": "markdown",
   "id": "8d7320f3",
   "metadata": {},
   "source": [
    "#### per Tissue Sample"
   ]
  },
  {
   "cell_type": "code",
   "execution_count": null,
   "id": "e9dd229c",
   "metadata": {},
   "outputs": [],
   "source": [
    "# Per Sample\n",
    "for s in adata.obs[\"sample\"].unique():\n",
    "    sc.pl.embedding(\n",
    "        adata[adata.obs[\"sample\"] == s],\n",
    "        basis=\"spatial\",\n",
    "        color=\"leiden\",\n",
    "        frameon=False,\n",
    "        size=3,\n",
    "        title=f\"Spatial - {s}\"\n",
    "    )"
   ]
  },
  {
   "cell_type": "markdown",
   "id": "cb3acef2",
   "metadata": {},
   "source": [
    "### PCA Visualization"
   ]
  },
  {
   "cell_type": "code",
   "execution_count": null,
   "id": "8e6f6c73",
   "metadata": {},
   "outputs": [],
   "source": [
    "sc.pl.pca(adata, color=\"leiden\")"
   ]
  },
  {
   "cell_type": "code",
   "execution_count": null,
   "id": "28e1cf6f",
   "metadata": {},
   "outputs": [],
   "source": [
    "sc.pl.pca_variance_ratio(adata, log=True)"
   ]
  },
  {
   "cell_type": "markdown",
   "id": "003dede9",
   "metadata": {},
   "source": [
    "### Cluster Relationship "
   ]
  },
  {
   "cell_type": "code",
   "execution_count": null,
   "id": "76900b7f",
   "metadata": {},
   "outputs": [],
   "source": [
    "sc.tl.dendrogram(adata, groupby=\"leiden\")\n",
    "sc.pl.dendrogram(adata, groupby=\"leiden\")"
   ]
  },
  {
   "cell_type": "code",
   "execution_count": null,
   "id": "04bad17b",
   "metadata": {},
   "outputs": [],
   "source": [
    "sc.tl.paga(adata, groups=\"leiden\")\n",
    "sc.pl.paga(adata, threshold=0.03, show=True)"
   ]
  },
  {
   "cell_type": "code",
   "execution_count": null,
   "id": "6c7bd3a0",
   "metadata": {},
   "outputs": [],
   "source": []
  }
 ],
 "metadata": {
  "kernelspec": {
   "display_name": "venv (3.13.5)",
   "language": "python",
   "name": "python3"
  },
  "language_info": {
   "codemirror_mode": {
    "name": "ipython",
    "version": 3
   },
   "file_extension": ".py",
   "mimetype": "text/x-python",
   "name": "python",
   "nbconvert_exporter": "python",
   "pygments_lexer": "ipython3",
   "version": "3.13.5"
  }
 },
 "nbformat": 4,
 "nbformat_minor": 5
}
