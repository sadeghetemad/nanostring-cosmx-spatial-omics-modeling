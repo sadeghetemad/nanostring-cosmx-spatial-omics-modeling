{
 "cells": [
  {
   "cell_type": "code",
   "execution_count": 1,
   "id": "79aade2a",
   "metadata": {},
   "outputs": [],
   "source": [
    "import warnings\n",
    "warnings.filterwarnings(\"ignore\")"
   ]
  },
  {
   "cell_type": "code",
   "execution_count": 2,
   "id": "3653be59",
   "metadata": {},
   "outputs": [],
   "source": [
    "import squidpy as sq\n",
    "import sccellfie\n",
    "import scanpy as sc\n",
    "import pandas as pd\n",
    "import numpy as np\n",
    "import networkx as nx\n",
    "\n",
    "import matplotlib.pyplot as plt\n",
    "import seaborn as sns\n",
    "import glasbey\n",
    "import h5py\n",
    "import math\n",
    "import requests\n",
    "\n",
    "import textwrap\n",
    "\n",
    "from pathlib import Path"
   ]
  },
  {
   "cell_type": "code",
   "execution_count": 3,
   "id": "c26bb11a",
   "metadata": {},
   "outputs": [
    {
     "data": {
      "text/plain": [
       "PosixPath('/home/sadegh/projects/nanostring-cosmx-spatial-omics-modeling')"
      ]
     },
     "execution_count": 3,
     "metadata": {},
     "output_type": "execute_result"
    }
   ],
   "source": [
    "base_dir = Path().resolve()\n",
    "parent_dir = base_dir.parent\n",
    "parent_dir"
   ]
  },
  {
   "cell_type": "markdown",
   "id": "565502c3",
   "metadata": {},
   "source": [
    "### Load Datasets"
   ]
  },
  {
   "cell_type": "code",
   "execution_count": null,
   "id": "ed19b87a",
   "metadata": {},
   "outputs": [
    {
     "data": {
      "text/plain": [
       "AnnData object with n_obs × n_vars = 174747 × 1011\n",
       "    obs: 'nCount_Nanostring', 'nFeature_Nanostring', 'cell_ID', 'fov', 'Area', 'AspectRatio', 'Width', 'Height', 'Mean.PanCK', 'Max.PanCK', 'Mean.CD68', 'Max.CD68', 'Mean.CD298_B2M', 'Max.CD298_B2M', 'Mean.CD45', 'Max.CD45', 'Mean.DAPI', 'Max.DAPI', 'id', 'TMA', 'Subject_ID', 'Treatment_Status', 'Run_Tissue_name', 'log10totalcounts', 'cell_type', 'tissue', 'sample', 'n_genes_by_counts', 'log1p_n_genes_by_counts', 'total_counts', 'log1p_total_counts', 'pct_counts_in_top_50_genes', 'pct_counts_in_top_100_genes', 'pct_counts_in_top_200_genes', 'pct_counts_in_top_500_genes', 'total_counts_mt', 'log1p_total_counts_mt', 'pct_counts_mt'\n",
       "    var: 'gene', 'mt', 'n_cells_by_counts', 'mean_counts', 'log1p_mean_counts', 'pct_dropout_by_counts', 'total_counts', 'log1p_total_counts', 'n_cells'\n",
       "    obsm: 'spatial'"
      ]
     },
     "execution_count": 4,
     "metadata": {},
     "output_type": "execute_result"
    }
   ],
   "source": [
    "# Load the dataset\n",
    "adata = sc.read(filename=parent_dir / 'data/h5ad/filtered_normalized_data.h5ad')\n",
    "adata"
   ]
  },
  {
   "cell_type": "code",
   "execution_count": 5,
   "id": "1c1152e7",
   "metadata": {},
   "outputs": [],
   "source": [
    "adata.var_names = adata.var[\"gene\"].astype(str)\n",
    "adata.var_names_make_unique()"
   ]
  },
  {
   "cell_type": "markdown",
   "id": "6394ff63",
   "metadata": {},
   "source": [
    "### Apply scCellFie Pipeline"
   ]
  },
  {
   "cell_type": "code",
   "execution_count": null,
   "id": "77da9fc0",
   "metadata": {},
   "outputs": [],
   "source": [
    "results = sccellfie.run_sccellfie_pipeline(adata,\n",
    "                                           organism='human',\n",
    "                                           sccellfie_data_folder=None,\n",
    "                                           n_counts_col='nCount_Nanostring',\n",
    "                                           process_by_group=False,\n",
    "                                           groupby=None, # 'Treatment_Status' or None\n",
    "                                           neighbors_key='neighbors',\n",
    "                                           n_neighbors=10,\n",
    "                                           batch_key='sample',\n",
    "                                           threshold_key='sccellfie_threshold',\n",
    "                                           smooth_cells=True,\n",
    "                                           alpha=0.33,\n",
    "                                           chunk_size=5000,\n",
    "                                           disable_pbar=True,\n",
    "                                           save_folder=None, # 'result or None',\n",
    "                                           save_filename=None, # 'sccellfie_results or None'\n",
    "                                          )"
   ]
  },
  {
   "cell_type": "markdown",
   "id": "b950cdef",
   "metadata": {},
   "source": [
    "## scCellFie Result Data Understanding"
   ]
  },
  {
   "cell_type": "code",
   "execution_count": null,
   "id": "7d69c7aa",
   "metadata": {},
   "outputs": [],
   "source": [
    "results"
   ]
  },
  {
   "cell_type": "code",
   "execution_count": null,
   "id": "fb6200ff",
   "metadata": {},
   "outputs": [],
   "source": [
    "metabolic_data = results['adata'].metabolic_tasks\n",
    "metabolic_data"
   ]
  },
  {
   "cell_type": "code",
   "execution_count": null,
   "id": "c3fd3871",
   "metadata": {},
   "outputs": [],
   "source": [
    "reaction_data = results['adata'].reactions\n",
    "reaction_data"
   ]
  },
  {
   "cell_type": "markdown",
   "id": "14d73a9c",
   "metadata": {},
   "source": [
    "## Save Gene, Reactions and Metabolic Tasks as CSV"
   ]
  },
  {
   "cell_type": "code",
   "execution_count": null,
   "id": "5ca58f6d",
   "metadata": {},
   "outputs": [],
   "source": [
    "# results['adata'].reactions.X or results['adata'].metabolic_tasks.X\n",
    "df = pd.DataFrame(\n",
    "    results['adata'].X,\n",
    "    index=results['adata'].obs.index,\n",
    "    columns=results['adata'].var.index\n",
    "    )\n",
    "df"
   ]
  },
  {
   "cell_type": "code",
   "execution_count": null,
   "id": "7df78af8",
   "metadata": {},
   "outputs": [],
   "source": [
    "# df.to_csv('scCellFie_genes_with_name.csv')"
   ]
  },
  {
   "cell_type": "code",
   "execution_count": null,
   "id": "43184177",
   "metadata": {},
   "outputs": [],
   "source": [
    "# Save adata objects containing single-cell/spatial predictions in H5AD format\n",
    "sccellfie.io.save_adata(adata=results['adata'],\n",
    "                        output_directory='output/',\n",
    "                        filename='sccellfie_results'\n",
    "                        )"
   ]
  },
  {
   "cell_type": "markdown",
   "id": "5d12eeec",
   "metadata": {},
   "source": [
    "## Visualization on scCellFie Data"
   ]
  },
  {
   "cell_type": "code",
   "execution_count": null,
   "id": "f3aae999",
   "metadata": {},
   "outputs": [],
   "source": [
    "gp = 'Subject_ID'"
   ]
  },
  {
   "cell_type": "markdown",
   "id": "7ce500c3",
   "metadata": {},
   "source": [
    "### Cell group level for the Metabolic Task Visualizer"
   ]
  },
  {
   "cell_type": "code",
   "execution_count": null,
   "id": "f0bc39cd",
   "metadata": {},
   "outputs": [],
   "source": [
    "# Summarize results in a cell-group level for the Metabolic Task Visualizer\n",
    "report = sccellfie.reports.generate_report_from_adata(results['adata'].metabolic_tasks,\n",
    "                                                      group_by=gp,\n",
    "                                                      feature_name='metabolic_task'\n",
    "                                                      )"
   ]
  },
  {
   "cell_type": "code",
   "execution_count": null,
   "id": "0dc69481",
   "metadata": {},
   "outputs": [],
   "source": [
    "# Export files to a specific folder.\n",
    "sccellfie.io.save_result_summary(results_dict=report, output_directory='report/')"
   ]
  },
  {
   "cell_type": "code",
   "execution_count": null,
   "id": "47a1710b",
   "metadata": {},
   "outputs": [],
   "source": [
    "metabolic_tasks = ['ATP generation from glucose (hypoxic conditions) - glycolysis', \n",
    "                   'ATP regeneration from glucose (normoxic conditions) - glycolysis + krebs cycle',\n",
    "                   'Gluconeogenesis from Lactate',\n",
    "                   'Glutaminolysis (glutamine to lactate)',\n",
    "                   'Glucose to lactate conversion'\n",
    "                  ]\n",
    "# metabolic_tasks = results['adata'].metabolic_tasks.var.index.tolist()\n",
    "metabolic_tasks"
   ]
  },
  {
   "cell_type": "code",
   "execution_count": null,
   "id": "ff8d4b90",
   "metadata": {},
   "outputs": [],
   "source": [
    "palette = glasbey.extend_palette('Set2', palette_size=max([10, results['adata'].metabolic_tasks.obs[gp].unique().shape[0]]))\n",
    "\n",
    "plt.rcParams['figure.figsize'] = (3,3)\n",
    "plt.rcParams['font.size'] = 10\n",
    "\n",
    "sc.pl.embedding(results['adata'].metabolic_tasks,\n",
    "                color=[gp] + metabolic_tasks,\n",
    "                ncols=1,\n",
    "                palette=palette,\n",
    "                frameon=False,\n",
    "                basis='X_umap',\n",
    "                wspace=0.7,\n",
    "                title=[\"\\n\".join(textwrap.wrap(t, width=60)) for t in [gp] + metabolic_tasks],\n",
    "                cmap='OrRd'\n",
    "               )"
   ]
  },
  {
   "cell_type": "code",
   "execution_count": null,
   "id": "9485a37c",
   "metadata": {},
   "outputs": [],
   "source": [
    "# Violin Plot\n",
    "fig, axes = sccellfie.plotting.create_multi_violin_plots(results['adata'].metabolic_tasks,\n",
    "                                                         features=metabolic_tasks,\n",
    "                                                         groupby=gp,\n",
    "                                                         stripplot=False,\n",
    "                                                         n_cols=2,\n",
    "                                                         ylabel='Metabolic Score'\n",
    "                                                        )"
   ]
  },
  {
   "cell_type": "code",
   "execution_count": null,
   "id": "f56e5e12",
   "metadata": {},
   "outputs": [],
   "source": [
    "ax = sc.pl.stacked_violin(results['adata'].metabolic_tasks, metabolic_tasks, groupby=gp, swap_axes=True, dendrogram=False, standard_scale='var')"
   ]
  },
  {
   "cell_type": "markdown",
   "id": "ce96657c",
   "metadata": {},
   "source": [
    "### Dot Plot"
   ]
  },
  {
   "cell_type": "code",
   "execution_count": null,
   "id": "d74badd7",
   "metadata": {},
   "outputs": [],
   "source": [
    "# Genes\n",
    "sc.pl.dotplot(results['adata'], var_names=results['adata'].var.index, groupby=gp, swap_axes=True, standard_scale='var')"
   ]
  },
  {
   "cell_type": "code",
   "execution_count": null,
   "id": "51d5dfa7",
   "metadata": {},
   "outputs": [],
   "source": [
    "# Reactions\n",
    "sc.pl.dotplot(reaction_data, var_names=results['adata'].reactions.var.index, groupby=gp, swap_axes=True, standard_scale='var')"
   ]
  },
  {
   "cell_type": "code",
   "execution_count": null,
   "id": "3636046f",
   "metadata": {},
   "outputs": [],
   "source": [
    "# Metabolic Tasks\n",
    "sc.pl.dotplot(metabolic_data, var_names=metabolic_tasks, groupby=gp, swap_axes=True, standard_scale='var')"
   ]
  },
  {
   "cell_type": "markdown",
   "id": "c8025b4e",
   "metadata": {},
   "source": [
    "### Heat Map "
   ]
  },
  {
   "cell_type": "code",
   "execution_count": null,
   "id": "0d191aa1",
   "metadata": {},
   "outputs": [],
   "source": [
    "ax = sc.pl.heatmap(metabolic_data, var_names=metabolic_tasks, groupby=gp, cmap=\"YlGnBu\", swap_axes=True, dendrogram=True,\n",
    "                   figsize=(16, 4)\n",
    "                  )"
   ]
  },
  {
   "cell_type": "markdown",
   "id": "32b04a44",
   "metadata": {},
   "source": [
    "### Aggregation "
   ]
  },
  {
   "cell_type": "code",
   "execution_count": null,
   "id": "64d85f63",
   "metadata": {},
   "outputs": [],
   "source": [
    "# number of non zero metaboli tasks data\n",
    "count = np.count_nonzero(metabolic_data.X)\n",
    "count"
   ]
  },
  {
   "cell_type": "code",
   "execution_count": null,
   "id": "4b816c8b",
   "metadata": {},
   "outputs": [],
   "source": [
    "gp"
   ]
  },
  {
   "cell_type": "code",
   "execution_count": null,
   "id": "2f2e5e98",
   "metadata": {},
   "outputs": [],
   "source": [
    "agg = sccellfie.expression.aggregation.agg_expression_cells(metabolic_data, groupby=gp, agg_func='mean')"
   ]
  },
  {
   "cell_type": "code",
   "execution_count": null,
   "id": "917b6b9c",
   "metadata": {},
   "outputs": [],
   "source": [
    "(agg != 0).sum().sum()\n"
   ]
  },
  {
   "cell_type": "code",
   "execution_count": null,
   "id": "200146c5",
   "metadata": {},
   "outputs": [],
   "source": [
    "input_df = sccellfie.preprocessing.matrix_utils.min_max_normalization(agg.T, axis=1)"
   ]
  },
  {
   "cell_type": "code",
   "execution_count": null,
   "id": "3ce21c8b",
   "metadata": {},
   "outputs": [],
   "source": [
    "plt.figure(figsize=(16, 4))\n",
    "g = sns.heatmap(input_df.loc[metabolic_tasks,:], cmap='YlGnBu', linewidths=0.5, xticklabels=1, yticklabels=1)\n",
    "\n",
    "cbar = g.collections[0].colorbar\n",
    "cbar.set_label('Scaled metabolic activity', size=14, rotation=270, labelpad=25)  # Change colorbar label size and rotation\n",
    "\n",
    "# Uncomment code below to save figure\n",
    "# plt.savefig('./figures/Heatmap-Seaborn.pdf', dpi=300, bbox_inches='tight')"
   ]
  },
  {
   "cell_type": "code",
   "execution_count": null,
   "id": "58764c83",
   "metadata": {},
   "outputs": [],
   "source": [
    "ax = sc.pl.tracksplot(metabolic_data, var_names=metabolic_tasks, groupby=gp, dendrogram=True, figsize=(16, 4))"
   ]
  },
  {
   "cell_type": "markdown",
   "id": "6d99ce02",
   "metadata": {},
   "source": [
    "### Radial Plot"
   ]
  },
  {
   "cell_type": "code",
   "execution_count": null,
   "id": "a87a1abf",
   "metadata": {},
   "outputs": [],
   "source": [
    "df_melted = pd.melt(input_df.reset_index(), id_vars='Task', var_name='cell_type', value_name='scaled_trimean')\n",
    "df_melted = df_melted.rename(columns={'Task': 'metabolic_task'})\n",
    "df_melted.head()"
   ]
  },
  {
   "cell_type": "code",
   "execution_count": null,
   "id": "9d38efa9",
   "metadata": {},
   "outputs": [],
   "source": [
    "ct = df_melted.cell_type.unique()[0:4]\n",
    "ct"
   ]
  },
  {
   "cell_type": "code",
   "execution_count": null,
   "id": "c8ec642c",
   "metadata": {},
   "outputs": [],
   "source": [
    "df_melted"
   ]
  },
  {
   "cell_type": "code",
   "execution_count": null,
   "id": "e68a0a48",
   "metadata": {},
   "outputs": [],
   "source": [
    "subset = df_melted[df_melted['cell_type'] == str(ct[i])]\n",
    "print(subset.head())\n",
    "print(subset.isna().sum())"
   ]
  },
  {
   "cell_type": "code",
   "execution_count": null,
   "id": "25a34f97",
   "metadata": {},
   "outputs": [],
   "source": [
    "fig = plt.figure(figsize=(16, 16))\n",
    "ax1 = fig.add_subplot(221, projection='polar')\n",
    "ax2 = fig.add_subplot(222, projection='polar')\n",
    "ax3 = fig.add_subplot(223, projection='polar')\n",
    "ax4 = fig.add_subplot(224, projection='polar')\n",
    "\n",
    "for i, (cell, ax) in enumerate(zip(gp, [ax1, ax2, ax3, ax4])):\n",
    "    sccellfie.plotting.create_radial_plot(df_melted, \n",
    "                                          results['task_info'],\n",
    "                                          cell_type=str(ct[i]),\n",
    "                                          ax=ax,\n",
    "                                          show_legend=i == 1,\n",
    "                                          ylim=1.0)"
   ]
  },
  {
   "cell_type": "code",
   "execution_count": null,
   "id": "cd45a964",
   "metadata": {},
   "outputs": [],
   "source": [
    "# Number of subjects\n",
    "n_subjects = 24\n",
    "\n",
    "# make a grid: 6x4 works well for 24\n",
    "n_cols = 6\n",
    "n_rows = math.ceil(n_subjects / n_cols)\n",
    "\n",
    "cell_type_data = df_melted.cell_type.unique()\n",
    "\n",
    "fig, axes = plt.subplots(\n",
    "    n_rows, n_cols,\n",
    "    subplot_kw=dict(projection='polar'),\n",
    "    figsize=(20, 20)\n",
    ")\n",
    "\n",
    "# flatten axes for easy indexing\n",
    "axes = axes.flatten()\n",
    "\n",
    "for i in range(n_subjects):\n",
    "    ax = axes[i]\n",
    "    sccellfie.plotting.create_radial_plot(\n",
    "        df_melted, \n",
    "        results['task_info'],\n",
    "        cell_type=str(cell_type_data[i]),   \n",
    "        ax=ax,\n",
    "        show_legend=False,  \n",
    "        ylim=1.0\n",
    "    )\n",
    "    ax.set_title(f\"Subject {cell_type_data[i]}\", fontsize=10)\n",
    "\n",
    "# hide any unused subplots (in case n_subjects doesn’t fill the grid)\n",
    "for j in range(i+1, len(axes)):\n",
    "    fig.delaxes(axes[j])\n",
    "\n",
    "\n",
    "plt.tight_layout() \n",
    "plt.show()\n"
   ]
  },
  {
   "cell_type": "code",
   "execution_count": null,
   "id": "b1c8eeec",
   "metadata": {},
   "outputs": [],
   "source": []
  },
  {
   "cell_type": "code",
   "execution_count": null,
   "id": "455680b9",
   "metadata": {},
   "outputs": [],
   "source": []
  }
 ],
 "metadata": {
  "kernelspec": {
   "display_name": "venv (3.12.3)",
   "language": "python",
   "name": "python3"
  },
  "language_info": {
   "codemirror_mode": {
    "name": "ipython",
    "version": 3
   },
   "file_extension": ".py",
   "mimetype": "text/x-python",
   "name": "python",
   "nbconvert_exporter": "python",
   "pygments_lexer": "ipython3",
   "version": "3.12.3"
  }
 },
 "nbformat": 4,
 "nbformat_minor": 5
}
